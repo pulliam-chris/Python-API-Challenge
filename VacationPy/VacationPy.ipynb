{
 "cells": [
  {
   "cell_type": "markdown",
   "metadata": {},
   "source": [
    "# VacationPy\n",
    "----\n",
    "\n",
    "#### Note\n",
    "* Keep an eye on your API usage. Use https://developers.google.com/maps/reporting/gmp-reporting as reference for how to monitor your usage and billing.\n",
    "\n",
    "* Instructions have been included for each segment. You do not have to follow them exactly, but they are included to help you think through the steps."
   ]
  },
  {
   "cell_type": "code",
   "execution_count": 3,
   "metadata": {},
   "outputs": [],
   "source": [
    "# Dependencies and Setup\n",
    "import matplotlib.pyplot as plt\n",
    "import pandas as pd\n",
    "import numpy as np\n",
    "import requests\n",
    "import gmaps\n",
    "import os\n",
    "import json\n",
    "\n",
    "# Import API key\n",
    "from config import g_key"
   ]
  },
  {
   "cell_type": "markdown",
   "metadata": {},
   "source": [
    "### Store Part I results into DataFrame\n",
    "* Load the csv exported in Part I to a DataFrame"
   ]
  },
  {
   "cell_type": "code",
   "execution_count": 4,
   "metadata": {},
   "outputs": [
    {
     "data": {
      "text/html": [
       "<div>\n",
       "<style scoped>\n",
       "    .dataframe tbody tr th:only-of-type {\n",
       "        vertical-align: middle;\n",
       "    }\n",
       "\n",
       "    .dataframe tbody tr th {\n",
       "        vertical-align: top;\n",
       "    }\n",
       "\n",
       "    .dataframe thead th {\n",
       "        text-align: right;\n",
       "    }\n",
       "</style>\n",
       "<table border=\"1\" class=\"dataframe\">\n",
       "  <thead>\n",
       "    <tr style=\"text-align: right;\">\n",
       "      <th></th>\n",
       "      <th>City</th>\n",
       "      <th>Lat</th>\n",
       "      <th>Lng</th>\n",
       "      <th>Max Temp</th>\n",
       "      <th>Humidity</th>\n",
       "      <th>Cloudiness</th>\n",
       "      <th>Wind Speed</th>\n",
       "      <th>Country</th>\n",
       "      <th>Date</th>\n",
       "    </tr>\n",
       "  </thead>\n",
       "  <tbody>\n",
       "    <tr>\n",
       "      <th>0</th>\n",
       "      <td>kruisfontein, za</td>\n",
       "      <td>-34.0033</td>\n",
       "      <td>24.7314</td>\n",
       "      <td>59.00</td>\n",
       "      <td>77.0</td>\n",
       "      <td>42.0</td>\n",
       "      <td>3.00</td>\n",
       "      <td>ZA</td>\n",
       "      <td>1.612214e+09</td>\n",
       "    </tr>\n",
       "    <tr>\n",
       "      <th>2</th>\n",
       "      <td>slave lake, ca</td>\n",
       "      <td>55.2834</td>\n",
       "      <td>-114.7690</td>\n",
       "      <td>14.00</td>\n",
       "      <td>92.0</td>\n",
       "      <td>90.0</td>\n",
       "      <td>11.50</td>\n",
       "      <td>CA</td>\n",
       "      <td>1.612214e+09</td>\n",
       "    </tr>\n",
       "    <tr>\n",
       "      <th>3</th>\n",
       "      <td>puerto ayora, ec</td>\n",
       "      <td>-0.7393</td>\n",
       "      <td>-90.3518</td>\n",
       "      <td>84.20</td>\n",
       "      <td>65.0</td>\n",
       "      <td>0.0</td>\n",
       "      <td>12.66</td>\n",
       "      <td>EC</td>\n",
       "      <td>1.612214e+09</td>\n",
       "    </tr>\n",
       "    <tr>\n",
       "      <th>4</th>\n",
       "      <td>provideniya, ru</td>\n",
       "      <td>64.3833</td>\n",
       "      <td>-173.3000</td>\n",
       "      <td>7.45</td>\n",
       "      <td>91.0</td>\n",
       "      <td>100.0</td>\n",
       "      <td>28.99</td>\n",
       "      <td>RU</td>\n",
       "      <td>1.612214e+09</td>\n",
       "    </tr>\n",
       "    <tr>\n",
       "      <th>5</th>\n",
       "      <td>saskylakh, ru</td>\n",
       "      <td>71.9167</td>\n",
       "      <td>114.0833</td>\n",
       "      <td>-30.32</td>\n",
       "      <td>84.0</td>\n",
       "      <td>100.0</td>\n",
       "      <td>7.76</td>\n",
       "      <td>RU</td>\n",
       "      <td>1.612214e+09</td>\n",
       "    </tr>\n",
       "  </tbody>\n",
       "</table>\n",
       "</div>"
      ],
      "text/plain": [
       "               City      Lat       Lng  Max Temp  Humidity  Cloudiness  \\\n",
       "0  kruisfontein, za -34.0033   24.7314     59.00      77.0        42.0   \n",
       "2    slave lake, ca  55.2834 -114.7690     14.00      92.0        90.0   \n",
       "3  puerto ayora, ec  -0.7393  -90.3518     84.20      65.0         0.0   \n",
       "4   provideniya, ru  64.3833 -173.3000      7.45      91.0       100.0   \n",
       "5     saskylakh, ru  71.9167  114.0833    -30.32      84.0       100.0   \n",
       "\n",
       "   Wind Speed Country          Date  \n",
       "0        3.00      ZA  1.612214e+09  \n",
       "2       11.50      CA  1.612214e+09  \n",
       "3       12.66      EC  1.612214e+09  \n",
       "4       28.99      RU  1.612214e+09  \n",
       "5        7.76      RU  1.612214e+09  "
      ]
     },
     "execution_count": 4,
     "metadata": {},
     "output_type": "execute_result"
    }
   ],
   "source": [
    "# Import collected city weather as DataFrame\n",
    "city_weather = pd.read_csv(\"../WeatherPy/Resources/Sample_Weather_Data.csv\")\n",
    "# Clean cities with no weather data\n",
    "city_weather_clean = city_weather.dropna()\n",
    "city_weather_clean.head()"
   ]
  },
  {
   "cell_type": "markdown",
   "metadata": {},
   "source": [
    "### Humidity Heatmap\n",
    "* Configure gmaps.\n",
    "* Use the Lat and Lng as locations and Humidity as the weight.\n",
    "* Add Heatmap layer to map."
   ]
  },
  {
   "cell_type": "code",
   "execution_count": 5,
   "metadata": {},
   "outputs": [],
   "source": [
    "# Access maps with unique API key\n",
    "gmaps.configure(api_key=g_key)\n",
    "\n",
    "# Store 'Lat' and 'Lng' into  locations \n",
    "locations = city_weather_clean[[\"Lat\", \"Lng\"]].astype(float)\n",
    "\n",
    "# Store associated humidity values for weights\n",
    "humidity = city_weather_clean[\"Humidity\"].astype(float)\n"
   ]
  },
  {
   "cell_type": "code",
   "execution_count": 7,
   "metadata": {},
   "outputs": [
    {
     "data": {
      "application/vnd.jupyter.widget-view+json": {
       "model_id": "c12cdb987a6948fd87701bc1db363096",
       "version_major": 2,
       "version_minor": 0
      },
      "text/plain": [
       "Figure(layout=FigureLayout(border='1px solid black', height='600px', margin='0 auto 0 auto', padding='1px', wi…"
      ]
     },
     "metadata": {},
     "output_type": "display_data"
    }
   ],
   "source": [
    "# Customize the size of the map figure\n",
    "figure_layout = {\n",
    "    'width': '800px',\n",
    "    'height': '600px',\n",
    "    'border': '1px solid black',\n",
    "    'padding': '1px',\n",
    "    'margin': '0 auto 0 auto'\n",
    "}\n",
    "\n",
    "# Create the figure with layout parameters\n",
    "fig = gmaps.figure(layout=figure_layout)\n",
    "\n",
    "# Create the heat layer with location data and humidity weights \n",
    "heat_layer = gmaps.heatmap_layer(locations, weights=humidity, \n",
    "                                 dissipating=False, max_intensity=100,\n",
    "                                 point_radius = 3)\n",
    "\n",
    "# Add the layer to the figure\n",
    "fig.add_layer(heat_layer)\n",
    "\n",
    "# Display the figure\n",
    "fig"
   ]
  },
  {
   "cell_type": "markdown",
   "metadata": {},
   "source": [
    "### Create new DataFrame fitting weather criteria\n",
    "* Narrow down the cities to fit weather conditions.\n",
    "* Drop any rows will null values."
   ]
  },
  {
   "cell_type": "code",
   "execution_count": 8,
   "metadata": {},
   "outputs": [
    {
     "data": {
      "text/plain": [
       "City          12\n",
       "Lat           12\n",
       "Lng           12\n",
       "Max Temp      12\n",
       "Humidity      12\n",
       "Cloudiness    12\n",
       "Wind Speed    12\n",
       "Country       12\n",
       "Date          12\n",
       "dtype: int64"
      ]
     },
     "execution_count": 8,
     "metadata": {},
     "output_type": "execute_result"
    }
   ],
   "source": [
    "# Refine the weather results to readings that would seem fitting for a vacation\n",
    "vacation_weather = city_weather_clean.loc[(city_weather_clean[\"Max Temp\"] < 80) &\n",
    "                                          (city_weather_clean[\"Max Temp\"] > 70) &\n",
    "                                          (city_weather_clean[\"Humidity\"] < 80) & \n",
    "                                          (city_weather_clean[\"Wind Speed\"] < 10) &\n",
    "                                          (city_weather_clean[\"Cloudiness\"] == 0)]\n",
    "\n",
    "# Check the count to see if it's a reasonable number\n",
    "vacation_weather.count()"
   ]
  },
  {
   "cell_type": "markdown",
   "metadata": {},
   "source": [
    "### Hotel Map\n",
    "* Store into variable named `hotel_df`.\n",
    "* Add a \"Hotel Name\" column to the DataFrame.\n",
    "* Set parameters to search for hotels with 5000 meters.\n",
    "* Hit the Google Places API for each city's coordinates.\n",
    "* Store the first Hotel result into the DataFrame.\n",
    "* Plot markers on top of the heatmap."
   ]
  },
  {
   "cell_type": "code",
   "execution_count": 9,
   "metadata": {},
   "outputs": [
    {
     "data": {
      "text/html": [
       "<div>\n",
       "<style scoped>\n",
       "    .dataframe tbody tr th:only-of-type {\n",
       "        vertical-align: middle;\n",
       "    }\n",
       "\n",
       "    .dataframe tbody tr th {\n",
       "        vertical-align: top;\n",
       "    }\n",
       "\n",
       "    .dataframe thead th {\n",
       "        text-align: right;\n",
       "    }\n",
       "</style>\n",
       "<table border=\"1\" class=\"dataframe\">\n",
       "  <thead>\n",
       "    <tr style=\"text-align: right;\">\n",
       "      <th></th>\n",
       "      <th>Lat</th>\n",
       "      <th>Lng</th>\n",
       "      <th>Hotel Name</th>\n",
       "      <th>City</th>\n",
       "      <th>Country</th>\n",
       "    </tr>\n",
       "  </thead>\n",
       "  <tbody>\n",
       "  </tbody>\n",
       "</table>\n",
       "</div>"
      ],
      "text/plain": [
       "Empty DataFrame\n",
       "Columns: [Lat, Lng, Hotel Name, City, Country]\n",
       "Index: []"
      ]
     },
     "execution_count": 9,
     "metadata": {},
     "output_type": "execute_result"
    }
   ],
   "source": [
    "hotel_df = pd.DataFrame(columns=['Lat', 'Lng', 'Hotel Name', 'City', 'Country'])\n",
    "hotel_df"
   ]
  },
  {
   "cell_type": "code",
   "execution_count": 11,
   "metadata": {},
   "outputs": [
    {
     "data": {
      "text/html": [
       "<div>\n",
       "<style scoped>\n",
       "    .dataframe tbody tr th:only-of-type {\n",
       "        vertical-align: middle;\n",
       "    }\n",
       "\n",
       "    .dataframe tbody tr th {\n",
       "        vertical-align: top;\n",
       "    }\n",
       "\n",
       "    .dataframe thead th {\n",
       "        text-align: right;\n",
       "    }\n",
       "</style>\n",
       "<table border=\"1\" class=\"dataframe\">\n",
       "  <thead>\n",
       "    <tr style=\"text-align: right;\">\n",
       "      <th></th>\n",
       "      <th>Lat</th>\n",
       "      <th>Lng</th>\n",
       "      <th>Hotel Name</th>\n",
       "      <th>City</th>\n",
       "      <th>Country</th>\n",
       "    </tr>\n",
       "  </thead>\n",
       "  <tbody>\n",
       "    <tr>\n",
       "      <th>13</th>\n",
       "      <td>-45.5752</td>\n",
       "      <td>-72.0662</td>\n",
       "      <td>Diego De Almagro Coyhaique</td>\n",
       "      <td>coihaique, cl</td>\n",
       "      <td>CL</td>\n",
       "    </tr>\n",
       "    <tr>\n",
       "      <th>20</th>\n",
       "      <td>11.5221</td>\n",
       "      <td>13.6856</td>\n",
       "      <td>UN Humanitarian Hub</td>\n",
       "      <td>bama, ng</td>\n",
       "      <td>NG</td>\n",
       "    </tr>\n",
       "    <tr>\n",
       "      <th>72</th>\n",
       "      <td>-13.7</td>\n",
       "      <td>-76.2167</td>\n",
       "      <td>Hotel San Isidro Oficial</td>\n",
       "      <td>pisco, pe</td>\n",
       "      <td>PE</td>\n",
       "    </tr>\n",
       "    <tr>\n",
       "      <th>196</th>\n",
       "      <td>14.8961</td>\n",
       "      <td>-24.4956</td>\n",
       "      <td>Tortuga B&amp;B</td>\n",
       "      <td>sao filipe, cv</td>\n",
       "      <td>CV</td>\n",
       "    </tr>\n",
       "    <tr>\n",
       "      <th>276</th>\n",
       "      <td>16.9833</td>\n",
       "      <td>73.3</td>\n",
       "      <td>Hotel Landmark</td>\n",
       "      <td>ratnagiri, in</td>\n",
       "      <td>IN</td>\n",
       "    </tr>\n",
       "    <tr>\n",
       "      <th>356</th>\n",
       "      <td>23.7667</td>\n",
       "      <td>-98.2167</td>\n",
       "      <td>Hotel Chicago</td>\n",
       "      <td>soto la marina, mx</td>\n",
       "      <td>MX</td>\n",
       "    </tr>\n",
       "    <tr>\n",
       "      <th>370</th>\n",
       "      <td>10.5222</td>\n",
       "      <td>7.4383</td>\n",
       "      <td>HAMDALA HOTEL</td>\n",
       "      <td>kaduna, ng</td>\n",
       "      <td>NG</td>\n",
       "    </tr>\n",
       "    <tr>\n",
       "      <th>401</th>\n",
       "      <td>11.2842</td>\n",
       "      <td>49.1816</td>\n",
       "      <td>Red Sea Hotel</td>\n",
       "      <td>bosaso, so</td>\n",
       "      <td>SO</td>\n",
       "    </tr>\n",
       "    <tr>\n",
       "      <th>430</th>\n",
       "      <td>14.1212</td>\n",
       "      <td>15.3103</td>\n",
       "      <td>Unknown</td>\n",
       "      <td>mao, td</td>\n",
       "      <td>TD</td>\n",
       "    </tr>\n",
       "    <tr>\n",
       "      <th>477</th>\n",
       "      <td>-23.85</td>\n",
       "      <td>151.25</td>\n",
       "      <td>Highpoint International</td>\n",
       "      <td>gladstone, au</td>\n",
       "      <td>AU</td>\n",
       "    </tr>\n",
       "    <tr>\n",
       "      <th>573</th>\n",
       "      <td>10.9167</td>\n",
       "      <td>-13.3333</td>\n",
       "      <td>Unknown</td>\n",
       "      <td>telimele, gn</td>\n",
       "      <td>GN</td>\n",
       "    </tr>\n",
       "    <tr>\n",
       "      <th>613</th>\n",
       "      <td>9.3627</td>\n",
       "      <td>17.366</td>\n",
       "      <td>Unknown</td>\n",
       "      <td>goundi, td</td>\n",
       "      <td>TD</td>\n",
       "    </tr>\n",
       "  </tbody>\n",
       "</table>\n",
       "</div>"
      ],
      "text/plain": [
       "         Lat      Lng                  Hotel Name                City Country\n",
       "13  -45.5752 -72.0662  Diego De Almagro Coyhaique       coihaique, cl      CL\n",
       "20   11.5221  13.6856         UN Humanitarian Hub            bama, ng      NG\n",
       "72     -13.7 -76.2167    Hotel San Isidro Oficial           pisco, pe      PE\n",
       "196  14.8961 -24.4956                 Tortuga B&B      sao filipe, cv      CV\n",
       "276  16.9833     73.3              Hotel Landmark       ratnagiri, in      IN\n",
       "356  23.7667 -98.2167               Hotel Chicago  soto la marina, mx      MX\n",
       "370  10.5222   7.4383               HAMDALA HOTEL          kaduna, ng      NG\n",
       "401  11.2842  49.1816               Red Sea Hotel          bosaso, so      SO\n",
       "430  14.1212  15.3103                     Unknown             mao, td      TD\n",
       "477   -23.85   151.25     Highpoint International       gladstone, au      AU\n",
       "573  10.9167 -13.3333                     Unknown        telimele, gn      GN\n",
       "613   9.3627   17.366                     Unknown          goundi, td      TD"
      ]
     },
     "execution_count": 11,
     "metadata": {},
     "output_type": "execute_result"
    }
   ],
   "source": [
    "# set default for target coordinates\n",
    "target_coordinates = \"\"\n",
    "# set radius of 5000 meters\n",
    "target_radius = 5000\n",
    "# set the type of results for Google to search for\n",
    "target_type = \"lodging\"\n",
    "\n",
    "# Iterate through vacation data for coordinates and create hotel dataframe\n",
    "for index, row in vacation_weather.iterrows():\n",
    "    \n",
    "    # geocoordinates\n",
    "    lat = vacation_weather.loc[index, \"Lat\"]\n",
    "    lng = vacation_weather.loc[index, \"Lng\"]\n",
    "    \n",
    "    # Populate what is already known into the new hotel dataframe\n",
    "    target_coordinates = f'{lat}, {lng}'\n",
    "    hotel_df.loc[index, \"Lat\"] = lat\n",
    "    hotel_df.loc[index, \"Lng\"] = lng\n",
    "    hotel_df.loc[index, \"City\"] = vacation_weather.loc[index, \"City\"]\n",
    "    hotel_df.loc[index, \"Country\"] = vacation_weather.loc[index, \"Country\"]\n",
    "    \n",
    "    # set up a parameters dictionary\n",
    "    params = {\n",
    "    \"location\": target_coordinates,\n",
    "    \"radius\": target_radius,\n",
    "    \"type\": target_type,\n",
    "    \"key\": g_key\n",
    "    }\n",
    "\n",
    "    # base Google Places url\n",
    "    base_url = \"https://maps.googleapis.com/maps/api/place/nearbysearch/json\"\n",
    "        \n",
    "    try:\n",
    "        # run a request using assembled params dictionary\n",
    "        response = requests.get(base_url, params=params)\n",
    "\n",
    "        places_data = response.json()\n",
    "    \n",
    "        hotel_df.loc[index, \"Hotel Name\"] = places_data[\"results\"][0][\"name\"]\n",
    "            \n",
    "    except:\n",
    "        hotel_df.loc[index, \"Hotel Name\"] = \"Unknown\"\n",
    "        \n",
    "hotel_df"
   ]
  },
  {
   "cell_type": "code",
   "execution_count": 13,
   "metadata": {},
   "outputs": [],
   "source": [
    "# Starter code\n",
    "# NOTE: Do not change any of the code in this cell\n",
    "\n",
    "# Using the template add the hotel marks to the heatmap\n",
    "info_box_template = \"\"\"\n",
    "<dl>\n",
    "<dt>Name</dt><dd>{Hotel Name}</dd>\n",
    "<dt>City</dt><dd>{City}</dd>\n",
    "<dt>Country</dt><dd>{Country}</dd>\n",
    "</dl>\n",
    "\"\"\"\n",
    "# Store the DataFrame Row\n",
    "# NOTE: be sure to update with your DataFrame name\n",
    "hotel_info = [info_box_template.format(**row) for index, row in hotel_df.iterrows()]\n",
    "locations = hotel_df[[\"Lat\", \"Lng\"]]"
   ]
  },
  {
   "cell_type": "code",
   "execution_count": 14,
   "metadata": {},
   "outputs": [
    {
     "data": {
      "application/vnd.jupyter.widget-view+json": {
       "model_id": "c12cdb987a6948fd87701bc1db363096",
       "version_major": 2,
       "version_minor": 0
      },
      "text/plain": [
       "Figure(layout=FigureLayout(border='1px solid black', height='600px', margin='0 auto 0 auto', padding='1px', wi…"
      ]
     },
     "metadata": {},
     "output_type": "display_data"
    }
   ],
   "source": [
    "hotel_layer = gmaps.marker_layer(\n",
    "    locations, info_box_content=hotel_info)\n",
    "\n",
    "# Add marker layer ontop of heat map\n",
    "fig.add_layer(hotel_layer)\n",
    "\n",
    "# Display figure\n",
    "fig"
   ]
  }
 ],
 "metadata": {
  "kernelspec": {
   "display_name": "Python 3",
   "language": "python",
   "name": "python3"
  },
  "language_info": {
   "codemirror_mode": {
    "name": "ipython",
    "version": 3
   },
   "file_extension": ".py",
   "mimetype": "text/x-python",
   "name": "python",
   "nbconvert_exporter": "python",
   "pygments_lexer": "ipython3",
   "version": "3.6.10"
  },
  "latex_envs": {
   "LaTeX_envs_menu_present": true,
   "autoclose": false,
   "autocomplete": true,
   "bibliofile": "biblio.bib",
   "cite_by": "apalike",
   "current_citInitial": 1,
   "eqLabelWithNumbers": true,
   "eqNumInitial": 1,
   "hotkeys": {
    "equation": "Ctrl-E",
    "itemize": "Ctrl-I"
   },
   "labels_anchors": false,
   "latex_user_defs": false,
   "report_style_numbering": false,
   "user_envs_cfg": false
  }
 },
 "nbformat": 4,
 "nbformat_minor": 4
}
