{
 "cells": [
  {
   "cell_type": "markdown",
   "metadata": {},
   "source": [
    "# WeatherPy\n",
    "----\n",
    "\n",
    "#### Note\n",
    "* Instructions have been included for each segment. You do not have to follow them exactly, but they are included to help you think through the steps."
   ]
  },
  {
   "cell_type": "code",
   "execution_count": 1,
   "metadata": {
    "scrolled": true
   },
   "outputs": [],
   "source": [
    "# Dependencies and Setup\n",
    "import matplotlib.pyplot as plt\n",
    "import pandas as pd\n",
    "import numpy as np\n",
    "import requests\n",
    "import time\n",
    "import scipy.stats as st\n",
    "from scipy.stats import linregress\n",
    "\n",
    "# Import API key\n",
    "from config import weather_api_key\n",
    "\n",
    "# Incorporated citipy to determine city based on latitude and longitude\n",
    "from citipy import citipy\n",
    "\n",
    "# Output File (CSV)\n",
    "output_data_file = \"output_data/cities.csv\"\n",
    "\n",
    "# Range of latitudes and longitudes\n",
    "lat_range = (-90, 90)\n",
    "lng_range = (-180, 180)"
   ]
  },
  {
   "cell_type": "markdown",
   "metadata": {},
   "source": [
    "## Generate Cities List"
   ]
  },
  {
   "cell_type": "code",
   "execution_count": 2,
   "metadata": {},
   "outputs": [
    {
     "data": {
      "text/plain": [
       "610"
      ]
     },
     "execution_count": 2,
     "metadata": {},
     "output_type": "execute_result"
    }
   ],
   "source": [
    "# List for holding lat_lngs and cities\n",
    "lat_lngs = []\n",
    "cities = []\n",
    "\n",
    "# Create a set of random lat and lng combinations\n",
    "lats = np.random.uniform(lat_range[0], lat_range[1], size=1500)\n",
    "lngs = np.random.uniform(lng_range[0], lng_range[1], size=1500)\n",
    "lat_lngs = zip(lats, lngs)\n",
    "\n",
    "# Identify nearest city for each lat, lng combination\n",
    "for lat_lng in lat_lngs:\n",
    "    city = citipy.nearest_city(lat_lng[0], lat_lng[1]).city_name\n",
    "    country = citipy.nearest_city(lat_lng[0], lat_lng[1]).country_code\n",
    "    city = f'{city}, {country}' \n",
    "    \n",
    "    # If the city is unique, then add it to a our cities list\n",
    "    if city not in cities:\n",
    "        cities.append(city)\n",
    "\n",
    "# Print the city count to confirm sufficient count\n",
    "len(cities)"
   ]
  },
  {
   "cell_type": "markdown",
   "metadata": {},
   "source": [
    "### Perform API Calls\n",
    "* Perform a weather check on each city using a series of successive API calls.\n",
    "* Include a print log of each city as it'sbeing processed (with the city number and city name).\n"
   ]
  },
  {
   "cell_type": "code",
   "execution_count": 3,
   "metadata": {
    "scrolled": true
   },
   "outputs": [
    {
     "name": "stdout",
     "output_type": "stream",
     "text": [
      "City not found. Skipping...\n",
      "Processing Record 1 of Set 0 | mahebourg, mu\n",
      "Processing Record 2 of Set 0 | hithadhoo, mv\n",
      "Processing Record 3 of Set 0 | vila franca do campo, pt\n",
      "Processing Record 4 of Set 0 | busselton, au\n",
      "Processing Record 5 of Set 0 | manta, ec\n",
      "Processing Record 6 of Set 0 | arraial do cabo, br\n",
      "City not found. Skipping...\n",
      "City not found. Skipping...\n",
      "Processing Record 9 of Set 0 | katsina, ng\n",
      "City not found. Skipping...\n",
      "Processing Record 11 of Set 0 | andros town, bs\n",
      "Processing Record 12 of Set 0 | albany, au\n",
      "Processing Record 13 of Set 0 | selje, no\n",
      "Processing Record 14 of Set 0 | tuy hoa, vn\n",
      "Processing Record 15 of Set 0 | iqaluit, ca\n",
      "Processing Record 16 of Set 0 | bluff, nz\n",
      "City not found. Skipping...\n",
      "Processing Record 18 of Set 0 | hilo, us\n",
      "Processing Record 19 of Set 0 | phangnga, th\n",
      "Processing Record 20 of Set 0 | choya, ru\n",
      "Processing Record 21 of Set 0 | savannakhet, la\n",
      "Processing Record 22 of Set 0 | dingli, mt\n",
      "Processing Record 23 of Set 0 | port elizabeth, za\n",
      "Processing Record 24 of Set 0 | new norfolk, au\n",
      "Processing Record 25 of Set 0 | mae hong son, th\n",
      "City not found. Skipping...\n",
      "Processing Record 27 of Set 0 | port alfred, za\n",
      "City not found. Skipping...\n",
      "Processing Record 29 of Set 0 | huilong, cn\n",
      "City not found. Skipping...\n",
      "Processing Record 31 of Set 0 | puerto ayora, ec\n",
      "Processing Record 32 of Set 0 | sabha, ly\n",
      "Processing Record 33 of Set 0 | acapulco, mx\n",
      "Processing Record 34 of Set 0 | thunder bay, ca\n",
      "Processing Record 35 of Set 0 | upernavik, gl\n",
      "City not found. Skipping...\n",
      "Processing Record 37 of Set 0 | rikitea, pf\n",
      "Processing Record 38 of Set 0 | key west, us\n",
      "Processing Record 39 of Set 0 | isangel, vu\n",
      "Processing Record 40 of Set 0 | debre tabor, et\n",
      "Processing Record 41 of Set 0 | punta arenas, cl\n",
      "Processing Record 42 of Set 0 | saint-philippe, re\n",
      "City not found. Skipping...\n",
      "Processing Record 44 of Set 0 | yershov, ru\n",
      "Processing Record 45 of Set 0 | carnarvon, au\n",
      "Processing Record 46 of Set 0 | mar del plata, ar\n",
      "Processing Record 47 of Set 0 | hermanus, za\n",
      "Processing Record 48 of Set 0 | porvoo, fi\n",
      "Processing Record 49 of Set 0 | jalu, ly\n",
      "Processing Record 50 of Set 0 | gushikawa, jp\n",
      "Processing Record 0 of Set 1 | hobart, au\n",
      "City not found. Skipping...\n",
      "Processing Record 2 of Set 1 | barrow, us\n",
      "City not found. Skipping...\n",
      "Processing Record 4 of Set 1 | kaeo, nz\n",
      "Processing Record 5 of Set 1 | tessalit, ml\n",
      "Processing Record 6 of Set 1 | abu dhabi, ae\n",
      "City not found. Skipping...\n",
      "City not found. Skipping...\n",
      "Processing Record 9 of Set 1 | qaanaaq, gl\n",
      "Processing Record 10 of Set 1 | lompoc, us\n",
      "City not found. Skipping...\n",
      "Processing Record 12 of Set 1 | ushuaia, ar\n",
      "Processing Record 13 of Set 1 | laguna, br\n",
      "Processing Record 14 of Set 1 | pisco, pe\n",
      "Processing Record 15 of Set 1 | longyearbyen, sj\n",
      "City not found. Skipping...\n",
      "Processing Record 17 of Set 1 | nishihara, jp\n",
      "Processing Record 18 of Set 1 | jardim, br\n",
      "Processing Record 19 of Set 1 | homer, us\n",
      "Processing Record 20 of Set 1 | yantal, ru\n",
      "Processing Record 21 of Set 1 | clyde river, ca\n",
      "Processing Record 22 of Set 1 | jeremie, ht\n",
      "Processing Record 23 of Set 1 | tsumeb, na\n",
      "Processing Record 24 of Set 1 | bredasdorp, za\n",
      "City not found. Skipping...\n",
      "Processing Record 26 of Set 1 | whitianga, nz\n",
      "Processing Record 27 of Set 1 | yatou, cn\n",
      "Processing Record 28 of Set 1 | kloulklubed, pw\n",
      "Processing Record 29 of Set 1 | loding, no\n",
      "Processing Record 30 of Set 1 | loni, in\n",
      "Processing Record 31 of Set 1 | vilyuysk, ru\n",
      "Processing Record 32 of Set 1 | ponta do sol, cv\n",
      "Processing Record 33 of Set 1 | vaini, to\n",
      "Processing Record 34 of Set 1 | souillac, mu\n",
      "Processing Record 35 of Set 1 | tamandare, br\n",
      "Processing Record 36 of Set 1 | kahului, us\n",
      "Processing Record 37 of Set 1 | tuktoyaktuk, ca\n",
      "Processing Record 38 of Set 1 | geraldton, au\n",
      "Processing Record 39 of Set 1 | nikolskoye, ru\n",
      "Processing Record 40 of Set 1 | jamestown, sh\n",
      "Processing Record 41 of Set 1 | east london, za\n",
      "Processing Record 42 of Set 1 | bowen, au\n",
      "Processing Record 43 of Set 1 | cherskiy, ru\n",
      "Processing Record 44 of Set 1 | mayo, ca\n",
      "Processing Record 45 of Set 1 | la ronge, ca\n",
      "Processing Record 46 of Set 1 | kapaa, us\n",
      "City not found. Skipping...\n",
      "Processing Record 48 of Set 1 | vanderhoof, ca\n",
      "Processing Record 49 of Set 1 | hailakandi, in\n",
      "Processing Record 50 of Set 1 | castro, cl\n",
      "Processing Record 0 of Set 2 | agua prieta, mx\n",
      "Processing Record 1 of Set 2 | beyneu, kz\n",
      "Processing Record 2 of Set 2 | kot addu, pk\n",
      "City not found. Skipping...\n",
      "Processing Record 4 of Set 2 | whitehorse, ca\n",
      "Processing Record 5 of Set 2 | bambous virieux, mu\n",
      "Processing Record 6 of Set 2 | ayorou, ne\n",
      "Processing Record 7 of Set 2 | itarare, br\n",
      "City not found. Skipping...\n",
      "Processing Record 9 of Set 2 | kedrovyy, ru\n",
      "Processing Record 10 of Set 2 | chipinge, zw\n",
      "Processing Record 11 of Set 2 | la trinite, fr\n",
      "Processing Record 12 of Set 2 | emet, tr\n",
      "Processing Record 13 of Set 2 | vulcan, ca\n",
      "Processing Record 14 of Set 2 | general roca, ar\n",
      "City not found. Skipping...\n",
      "Processing Record 16 of Set 2 | axim, gh\n",
      "Processing Record 17 of Set 2 | esperance, au\n",
      "Processing Record 18 of Set 2 | cabo san lucas, mx\n",
      "Processing Record 19 of Set 2 | nushki, pk\n",
      "Processing Record 20 of Set 2 | mao, td\n",
      "Processing Record 21 of Set 2 | pevek, ru\n",
      "Processing Record 22 of Set 2 | avarua, ck\n",
      "Processing Record 23 of Set 2 | palmer, us\n",
      "Processing Record 24 of Set 2 | georgetown, sh\n",
      "Processing Record 25 of Set 2 | shimoda, jp\n",
      "Processing Record 26 of Set 2 | fortuna, us\n",
      "Processing Record 27 of Set 2 | kibiti, tz\n",
      "Processing Record 28 of Set 2 | sao filipe, cv\n",
      "Processing Record 29 of Set 2 | dunedin, nz\n",
      "City not found. Skipping...\n",
      "City not found. Skipping...\n",
      "Processing Record 32 of Set 2 | nanakuli, us\n",
      "Processing Record 33 of Set 2 | bandarbeyla, so\n",
      "Processing Record 34 of Set 2 | touros, br\n",
      "Processing Record 35 of Set 2 | skibbereen, ie\n",
      "Processing Record 36 of Set 2 | victoria, sc\n",
      "City not found. Skipping...\n",
      "Processing Record 38 of Set 2 | luau, ao\n",
      "Processing Record 39 of Set 2 | kaitangata, nz\n",
      "Processing Record 40 of Set 2 | gisborne, nz\n",
      "Processing Record 41 of Set 2 | atuona, pf\n",
      "Processing Record 42 of Set 2 | san pedro, bz\n",
      "Processing Record 43 of Set 2 | bairiki, ki\n",
      "Processing Record 44 of Set 2 | chuy, uy\n",
      "Processing Record 45 of Set 2 | abbeville, us\n",
      "Processing Record 46 of Set 2 | morgan city, us\n",
      "Processing Record 47 of Set 2 | kodinsk, ru\n",
      "Processing Record 48 of Set 2 | jaguariaiva, br\n",
      "Processing Record 49 of Set 2 | kamenka, ru\n",
      "Processing Record 50 of Set 2 | kotovo, ru\n",
      "Processing Record 0 of Set 3 | naivasha, ke\n",
      "Processing Record 1 of Set 3 | mount isa, au\n",
      "Processing Record 2 of Set 3 | kavieng, pg\n",
      "Processing Record 3 of Set 3 | lityn, ua\n",
      "Processing Record 4 of Set 3 | ribeira grande, pt\n",
      "Processing Record 5 of Set 3 | talnakh, ru\n",
      "Processing Record 6 of Set 3 | ostrovnoy, ru\n",
      "Processing Record 7 of Set 3 | araouane, ml\n",
      "Processing Record 8 of Set 3 | faanui, pf\n",
      "Processing Record 9 of Set 3 | shu, kz\n",
      "Processing Record 10 of Set 3 | seymchan, ru\n",
      "Processing Record 11 of Set 3 | diphu, in\n",
      "City not found. Skipping...\n",
      "Processing Record 13 of Set 3 | butaritari, ki\n",
      "Processing Record 14 of Set 3 | yangmei, tw\n",
      "Processing Record 15 of Set 3 | zilair, ru\n",
      "Processing Record 16 of Set 3 | yellowknife, ca\n",
      "Processing Record 17 of Set 3 | kalino, ru\n",
      "Processing Record 18 of Set 3 | tuatapere, nz\n",
      "Processing Record 19 of Set 3 | buala, sb\n",
      "Processing Record 20 of Set 3 | mendi, pg\n",
      "Processing Record 21 of Set 3 | bintulu, my\n",
      "Processing Record 22 of Set 3 | thompson, ca\n",
      "Processing Record 23 of Set 3 | gemena, cd\n",
      "Processing Record 24 of Set 3 | vanimo, pg\n",
      "Processing Record 25 of Set 3 | bushehr, ir\n",
      "Processing Record 26 of Set 3 | safaga, eg\n",
      "Processing Record 27 of Set 3 | waipawa, nz\n",
      "Processing Record 28 of Set 3 | hobyo, so\n",
      "Processing Record 29 of Set 3 | namibe, ao\n",
      "Processing Record 30 of Set 3 | gopalpur, in\n",
      "Processing Record 31 of Set 3 | marabba, sd\n",
      "City not found. Skipping...\n",
      "Processing Record 33 of Set 3 | cape town, za\n",
      "Processing Record 34 of Set 3 | townsville, au\n",
      "Processing Record 35 of Set 3 | macenta, gn\n",
      "Processing Record 36 of Set 3 | jiangyou, cn\n",
      "Processing Record 37 of Set 3 | sirnak, tr\n",
      "Processing Record 38 of Set 3 | katsuura, jp\n",
      "Processing Record 39 of Set 3 | turukhansk, ru\n",
      "Processing Record 40 of Set 3 | dzaoudzi, yt\n"
     ]
    },
    {
     "name": "stdout",
     "output_type": "stream",
     "text": [
      "City not found. Skipping...\n",
      "Processing Record 42 of Set 3 | lavrentiya, ru\n",
      "City not found. Skipping...\n",
      "Processing Record 44 of Set 3 | patharia, in\n",
      "Processing Record 45 of Set 3 | timbiqui, co\n",
      "Processing Record 46 of Set 3 | mecca, sa\n",
      "Processing Record 47 of Set 3 | flinders, au\n",
      "Processing Record 48 of Set 3 | pangnirtung, ca\n",
      "Processing Record 49 of Set 3 | porto seguro, br\n",
      "Processing Record 50 of Set 3 | aswan, eg\n",
      "City not found. Skipping...\n",
      "Processing Record 1 of Set 4 | mount gambier, au\n",
      "Processing Record 2 of Set 4 | lubbock, us\n",
      "Processing Record 3 of Set 4 | kharan, pk\n",
      "Processing Record 4 of Set 4 | dallas, us\n",
      "City not found. Skipping...\n",
      "Processing Record 6 of Set 4 | norman wells, ca\n",
      "Processing Record 7 of Set 4 | chicama, pe\n",
      "Processing Record 8 of Set 4 | cherdyn, ru\n",
      "Processing Record 9 of Set 4 | aberdeen, us\n",
      "Processing Record 10 of Set 4 | great yarmouth, gb\n",
      "Processing Record 11 of Set 4 | olafsvik, is\n",
      "City not found. Skipping...\n",
      "Processing Record 13 of Set 4 | davenda, ru\n",
      "Processing Record 14 of Set 4 | tokonou, gn\n",
      "Processing Record 15 of Set 4 | charters towers, au\n",
      "Processing Record 16 of Set 4 | caravelas, br\n",
      "City not found. Skipping...\n",
      "Processing Record 18 of Set 4 | aracruz, br\n",
      "Processing Record 19 of Set 4 | nyurba, ru\n",
      "Processing Record 20 of Set 4 | ahuimanu, us\n",
      "Processing Record 21 of Set 4 | altamira, br\n",
      "Processing Record 22 of Set 4 | college, us\n",
      "City not found. Skipping...\n",
      "Processing Record 24 of Set 4 | shahr-e babak, ir\n",
      "Processing Record 25 of Set 4 | kirakira, sb\n",
      "Processing Record 26 of Set 4 | tasiilaq, gl\n",
      "Processing Record 27 of Set 4 | ancud, cl\n",
      "Processing Record 28 of Set 4 | bethel, us\n",
      "Processing Record 29 of Set 4 | hirara, jp\n",
      "Processing Record 30 of Set 4 | warrnambool, au\n",
      "Processing Record 31 of Set 4 | vardo, no\n",
      "Processing Record 32 of Set 4 | bengkulu, id\n",
      "Processing Record 33 of Set 4 | lagunas, pe\n",
      "Processing Record 34 of Set 4 | lebu, cl\n",
      "Processing Record 35 of Set 4 | kwaluseni, sz\n",
      "Processing Record 36 of Set 4 | taiping, my\n",
      "Processing Record 37 of Set 4 | limon, cr\n",
      "Processing Record 38 of Set 4 | luocheng, cn\n",
      "Processing Record 39 of Set 4 | mountain home, us\n",
      "Processing Record 40 of Set 4 | sorong, id\n",
      "Processing Record 41 of Set 4 | north bend, us\n",
      "Processing Record 42 of Set 4 | zabid, ye\n",
      "City not found. Skipping...\n",
      "Processing Record 44 of Set 4 | basco, ph\n",
      "Processing Record 45 of Set 4 | cayenne, gf\n",
      "Processing Record 46 of Set 4 | oriximina, br\n",
      "Processing Record 47 of Set 4 | tias, es\n",
      "Processing Record 48 of Set 4 | roma, au\n",
      "Processing Record 49 of Set 4 | sisimiut, gl\n",
      "Processing Record 50 of Set 4 | yulara, au\n",
      "Processing Record 0 of Set 5 | ilulissat, gl\n",
      "Processing Record 1 of Set 5 | taitung, tw\n",
      "Processing Record 2 of Set 5 | mortka, ru\n",
      "Processing Record 3 of Set 5 | brigantine, us\n",
      "Processing Record 4 of Set 5 | vilhena, br\n",
      "Processing Record 5 of Set 5 | baruun-urt, mn\n",
      "Processing Record 6 of Set 5 | port lincoln, au\n",
      "Processing Record 7 of Set 5 | kudymkar, ru\n",
      "Processing Record 8 of Set 5 | haian, cn\n",
      "City not found. Skipping...\n",
      "Processing Record 10 of Set 5 | chokurdakh, ru\n",
      "Processing Record 11 of Set 5 | karpathos, gr\n",
      "Processing Record 12 of Set 5 | humaita, br\n",
      "Processing Record 13 of Set 5 | portland, au\n",
      "Processing Record 14 of Set 5 | tailai, cn\n",
      "Processing Record 15 of Set 5 | bulawayo, zw\n",
      "Processing Record 16 of Set 5 | sola, vu\n",
      "Processing Record 17 of Set 5 | elizabeth city, us\n",
      "Processing Record 18 of Set 5 | kieta, pg\n",
      "Processing Record 19 of Set 5 | gao, ml\n",
      "Processing Record 20 of Set 5 | shushtar, ir\n",
      "Processing Record 21 of Set 5 | mezen, ru\n",
      "Processing Record 22 of Set 5 | arequipa, pe\n",
      "Processing Record 23 of Set 5 | te anau, nz\n",
      "Processing Record 24 of Set 5 | watsa, cd\n",
      "Processing Record 25 of Set 5 | hami, cn\n",
      "Processing Record 26 of Set 5 | eyl, so\n",
      "Processing Record 27 of Set 5 | kailua, us\n",
      "Processing Record 28 of Set 5 | gamba, ga\n",
      "Processing Record 29 of Set 5 | cidreira, br\n",
      "Processing Record 30 of Set 5 | jasper, ca\n",
      "Processing Record 31 of Set 5 | willowmore, za\n",
      "Processing Record 32 of Set 5 | kholm, af\n",
      "Processing Record 33 of Set 5 | husavik, is\n",
      "Processing Record 34 of Set 5 | itoman, jp\n",
      "Processing Record 35 of Set 5 | myaundzha, ru\n",
      "Processing Record 36 of Set 5 | saldanha, za\n",
      "Processing Record 37 of Set 5 | belyy yar, ru\n",
      "Processing Record 38 of Set 5 | khatanga, ru\n",
      "Processing Record 39 of Set 5 | praia da vitoria, pt\n",
      "Processing Record 40 of Set 5 | praya, id\n",
      "Processing Record 41 of Set 5 | haines junction, ca\n",
      "Processing Record 42 of Set 5 | alamogordo, us\n",
      "Processing Record 43 of Set 5 | hasaki, jp\n",
      "Processing Record 44 of Set 5 | minab, ir\n",
      "Processing Record 45 of Set 5 | poronaysk, ru\n",
      "Processing Record 46 of Set 5 | cabedelo, br\n",
      "Processing Record 47 of Set 5 | veliki preslav, bg\n",
      "Processing Record 48 of Set 5 | valparaiso, cl\n",
      "City not found. Skipping...\n",
      "Processing Record 50 of Set 5 | hualmay, pe\n",
      "Processing Record 0 of Set 6 | kitimat, ca\n",
      "Processing Record 1 of Set 6 | warragul, au\n",
      "Processing Record 2 of Set 6 | shache, cn\n",
      "City not found. Skipping...\n",
      "Processing Record 4 of Set 6 | kiama, au\n",
      "Processing Record 5 of Set 6 | bemidji, us\n",
      "Processing Record 6 of Set 6 | lisakovsk, kz\n",
      "Processing Record 7 of Set 6 | grindavik, is\n",
      "Processing Record 8 of Set 6 | carlyle, ca\n",
      "Processing Record 9 of Set 6 | batagay, ru\n",
      "Processing Record 10 of Set 6 | yenagoa, ng\n",
      "Processing Record 11 of Set 6 | nouadhibou, mr\n",
      "Processing Record 12 of Set 6 | antsohihy, mg\n",
      "Processing Record 13 of Set 6 | port hawkesbury, ca\n",
      "Processing Record 14 of Set 6 | turtas, ru\n",
      "Processing Record 15 of Set 6 | aripuana, br\n",
      "City not found. Skipping...\n",
      "City not found. Skipping...\n",
      "Processing Record 18 of Set 6 | santa rosa, ar\n",
      "Processing Record 19 of Set 6 | yar-sale, ru\n",
      "Processing Record 20 of Set 6 | sioux lookout, ca\n",
      "Processing Record 21 of Set 6 | sambalpur, in\n",
      "Processing Record 22 of Set 6 | saint-louis, sn\n",
      "Processing Record 23 of Set 6 | narsaq, gl\n",
      "Processing Record 24 of Set 6 | lamar, us\n",
      "Processing Record 25 of Set 6 | fort nelson, ca\n",
      "Processing Record 26 of Set 6 | lagoa, pt\n",
      "Processing Record 27 of Set 6 | naze, jp\n",
      "Processing Record 28 of Set 6 | yumen, cn\n",
      "Processing Record 29 of Set 6 | severo-kurilsk, ru\n",
      "Processing Record 30 of Set 6 | zarya, ru\n",
      "Processing Record 31 of Set 6 | moron, mn\n",
      "Processing Record 32 of Set 6 | benton harbor, us\n",
      "Processing Record 33 of Set 6 | iquique, cl\n",
      "Processing Record 34 of Set 6 | lerwick, gb\n",
      "Processing Record 35 of Set 6 | meulaboh, id\n",
      "Processing Record 36 of Set 6 | juneau, us\n",
      "Processing Record 37 of Set 6 | chuncheng, cn\n",
      "Processing Record 38 of Set 6 | pitimbu, br\n",
      "Processing Record 39 of Set 6 | poplar bluff, us\n",
      "Processing Record 40 of Set 6 | nakhon thai, th\n",
      "Processing Record 41 of Set 6 | nankana sahib, pk\n",
      "Processing Record 42 of Set 6 | petropavlovsk-kamchatskiy, ru\n",
      "Processing Record 43 of Set 6 | mahina, pf\n",
      "Processing Record 44 of Set 6 | paita, pe\n",
      "City not found. Skipping...\n",
      "Processing Record 46 of Set 6 | laramie, us\n",
      "Processing Record 47 of Set 6 | dikson, ru\n",
      "Processing Record 48 of Set 6 | pak phanang, th\n",
      "Processing Record 49 of Set 6 | awbari, ly\n",
      "Processing Record 50 of Set 6 | port blair, in\n",
      "Processing Record 0 of Set 7 | alice springs, au\n",
      "Processing Record 1 of Set 7 | potsdam, us\n",
      "Processing Record 2 of Set 7 | mahibadhoo, mv\n",
      "Processing Record 3 of Set 7 | talaya, ru\n",
      "Processing Record 4 of Set 7 | gimbi, et\n",
      "City not found. Skipping...\n",
      "Processing Record 6 of Set 7 | provideniya, ru\n",
      "Processing Record 7 of Set 7 | mitchell, us\n",
      "Processing Record 8 of Set 7 | ashtarak, am\n",
      "City not found. Skipping...\n",
      "Processing Record 10 of Set 7 | camacha, pt\n",
      "Processing Record 11 of Set 7 | saint-augustin, ca\n",
      "Processing Record 12 of Set 7 | kayiry, ua\n",
      "City not found. Skipping...\n",
      "Processing Record 14 of Set 7 | bucak, tr\n",
      "Processing Record 15 of Set 7 | merauke, id\n",
      "Processing Record 16 of Set 7 | hamilton, bm\n",
      "Processing Record 17 of Set 7 | akyab, mm\n",
      "Processing Record 18 of Set 7 | halifax, ca\n",
      "Processing Record 19 of Set 7 | bumba, cd\n",
      "Processing Record 20 of Set 7 | kalmunai, lk\n",
      "Processing Record 21 of Set 7 | rantepao, id\n",
      "Processing Record 22 of Set 7 | kodiak, us\n",
      "Processing Record 23 of Set 7 | hiroshima, jp\n",
      "Processing Record 24 of Set 7 | nokaneng, bw\n",
      "Processing Record 25 of Set 7 | sur, om\n",
      "Processing Record 26 of Set 7 | thio, nc\n"
     ]
    },
    {
     "name": "stdout",
     "output_type": "stream",
     "text": [
      "City not found. Skipping...\n",
      "Processing Record 28 of Set 7 | victor harbor, au\n",
      "Processing Record 29 of Set 7 | najran, sa\n",
      "Processing Record 30 of Set 7 | luanda, ao\n",
      "Processing Record 31 of Set 7 | hovd, mn\n",
      "Processing Record 32 of Set 7 | puerto del rosario, es\n",
      "Processing Record 33 of Set 7 | nantucket, us\n",
      "Processing Record 34 of Set 7 | erenhot, cn\n",
      "Processing Record 35 of Set 7 | del rio, us\n",
      "Processing Record 36 of Set 7 | palana, ru\n",
      "Processing Record 37 of Set 7 | ordubad, az\n",
      "Processing Record 38 of Set 7 | quzhou, cn\n",
      "Processing Record 39 of Set 7 | saskylakh, ru\n",
      "Processing Record 40 of Set 7 | fairbanks, us\n",
      "Processing Record 41 of Set 7 | sikasso, ml\n",
      "City not found. Skipping...\n",
      "City not found. Skipping...\n",
      "City not found. Skipping...\n",
      "City not found. Skipping...\n",
      "Processing Record 46 of Set 7 | vestmannaeyjar, is\n",
      "Processing Record 47 of Set 7 | socorro, us\n",
      "Processing Record 48 of Set 7 | chernyshevskiy, ru\n",
      "City not found. Skipping...\n",
      "Processing Record 50 of Set 7 | toyooka, jp\n",
      "Processing Record 0 of Set 8 | barranca, pe\n",
      "Processing Record 1 of Set 8 | jagupit, ph\n",
      "Processing Record 2 of Set 8 | derzhavinsk, kz\n",
      "Processing Record 3 of Set 8 | traismauer, at\n",
      "Processing Record 4 of Set 8 | anjozorobe, mg\n",
      "Processing Record 5 of Set 8 | yamada, jp\n",
      "City not found. Skipping...\n",
      "Processing Record 7 of Set 8 | walvis bay, na\n",
      "Processing Record 8 of Set 8 | alofi, nu\n",
      "Processing Record 9 of Set 8 | george, za\n",
      "Processing Record 10 of Set 8 | maniitsoq, gl\n",
      "Processing Record 11 of Set 8 | komsomolskiy, ru\n",
      "Processing Record 12 of Set 8 | lingsugur, in\n",
      "Processing Record 13 of Set 8 | bahar, ir\n",
      "Processing Record 14 of Set 8 | yushu, cn\n",
      "Processing Record 15 of Set 8 | progreso, mx\n",
      "Processing Record 16 of Set 8 | tazovskiy, ru\n",
      "Processing Record 17 of Set 8 | kruisfontein, za\n",
      "City not found. Skipping...\n",
      "Processing Record 19 of Set 8 | sokoni, tz\n",
      "Processing Record 20 of Set 8 | juli, pe\n",
      "Processing Record 21 of Set 8 | teeswater, ca\n",
      "Processing Record 22 of Set 8 | sibolga, id\n",
      "Processing Record 23 of Set 8 | karagay, ru\n",
      "City not found. Skipping...\n",
      "Processing Record 25 of Set 8 | indian head, ca\n",
      "Processing Record 26 of Set 8 | peniche, pt\n",
      "Processing Record 27 of Set 8 | egvekinot, ru\n",
      "Processing Record 28 of Set 8 | gambela, et\n",
      "Processing Record 29 of Set 8 | igarka, ru\n",
      "Processing Record 30 of Set 8 | jablah, sy\n",
      "Processing Record 31 of Set 8 | atar, mr\n",
      "Processing Record 32 of Set 8 | povenets, ru\n",
      "Processing Record 33 of Set 8 | loukhi, ru\n",
      "Processing Record 34 of Set 8 | san andres, co\n",
      "Processing Record 35 of Set 8 | hearst, ca\n",
      "Processing Record 36 of Set 8 | opuwo, na\n",
      "Processing Record 37 of Set 8 | sychevka, ru\n",
      "Processing Record 38 of Set 8 | tigil, ru\n",
      "Processing Record 39 of Set 8 | abu zabad, sd\n",
      "Processing Record 40 of Set 8 | saint george, bm\n",
      "Processing Record 41 of Set 8 | constitucion, mx\n",
      "Processing Record 42 of Set 8 | mocuba, mz\n",
      "Processing Record 43 of Set 8 | ruda nad moravou, cz\n",
      "Processing Record 44 of Set 8 | oppdal, no\n",
      "Processing Record 45 of Set 8 | bud, no\n",
      "City not found. Skipping...\n",
      "Processing Record 47 of Set 8 | port macquarie, au\n",
      "Processing Record 48 of Set 8 | huarmey, pe\n",
      "Processing Record 49 of Set 8 | vao, nc\n",
      "Processing Record 50 of Set 8 | obo, cf\n",
      "City not found. Skipping...\n",
      "Processing Record 1 of Set 9 | coihaique, cl\n",
      "City not found. Skipping...\n",
      "City not found. Skipping...\n",
      "City not found. Skipping...\n",
      "Processing Record 5 of Set 9 | baykit, ru\n",
      "Processing Record 6 of Set 9 | rio gallegos, ar\n",
      "Processing Record 7 of Set 9 | choma, zm\n",
      "City not found. Skipping...\n",
      "Processing Record 9 of Set 9 | dongsheng, cn\n",
      "City not found. Skipping...\n",
      "Processing Record 11 of Set 9 | aksarka, ru\n",
      "Processing Record 12 of Set 9 | broken hill, au\n",
      "Processing Record 13 of Set 9 | olga, ru\n",
      "City not found. Skipping...\n",
      "Processing Record 15 of Set 9 | mackay, au\n",
      "Processing Record 16 of Set 9 | plettenberg bay, za\n",
      "Processing Record 17 of Set 9 | tiksi, ru\n",
      "Processing Record 18 of Set 9 | remedios, pa\n",
      "Processing Record 19 of Set 9 | boyany, ua\n",
      "Processing Record 20 of Set 9 | poum, nc\n",
      "Processing Record 21 of Set 9 | walla walla, us\n",
      "Processing Record 22 of Set 9 | inuvik, ca\n",
      "Processing Record 23 of Set 9 | daura, ng\n",
      "Processing Record 24 of Set 9 | sistranda, no\n",
      "Processing Record 25 of Set 9 | honiara, sb\n",
      "Processing Record 26 of Set 9 | lima, pe\n",
      "Processing Record 27 of Set 9 | san quintin, mx\n",
      "City not found. Skipping...\n",
      "Processing Record 29 of Set 9 | hambantota, lk\n",
      "Processing Record 30 of Set 9 | kharp, ru\n",
      "Processing Record 31 of Set 9 | sabang, id\n",
      "Processing Record 32 of Set 9 | sao sebastiao, br\n",
      "Processing Record 33 of Set 9 | mattru, sl\n",
      "Processing Record 34 of Set 9 | shizunai, jp\n",
      "Processing Record 35 of Set 9 | yeppoon, au\n",
      "Processing Record 36 of Set 9 | collingwood, ca\n",
      "Processing Record 37 of Set 9 | puerto ayacucho, ve\n",
      "Processing Record 38 of Set 9 | belle fourche, us\n",
      "Processing Record 39 of Set 9 | road town, vg\n",
      "Processing Record 40 of Set 9 | ardesen, tr\n",
      "Processing Record 41 of Set 9 | longhua, cn\n",
      "City not found. Skipping...\n",
      "Processing Record 43 of Set 9 | traverse city, us\n",
      "Processing Record 44 of Set 9 | klyuchi, ru\n",
      "Processing Record 45 of Set 9 | atikokan, ca\n",
      "Processing Record 46 of Set 9 | arnprior, ca\n",
      "Processing Record 47 of Set 9 | anito, ph\n",
      "City not found. Skipping...\n",
      "Processing Record 49 of Set 9 | ambon, id\n",
      "Processing Record 50 of Set 9 | rypefjord, no\n",
      "Processing Record 0 of Set 10 | yingcheng, cn\n",
      "Processing Record 1 of Set 10 | bida, ng\n",
      "Processing Record 2 of Set 10 | tual, id\n",
      "Processing Record 3 of Set 10 | ust-nera, ru\n",
      "Processing Record 4 of Set 10 | cockburn town, bs\n",
      "Processing Record 5 of Set 10 | san vicente, ph\n",
      "Processing Record 6 of Set 10 | alpatovo, ru\n",
      "Processing Record 7 of Set 10 | leningradskiy, ru\n",
      "Processing Record 8 of Set 10 | mitsamiouli, km\n",
      "Processing Record 9 of Set 10 | quatre cocos, mu\n",
      "Processing Record 10 of Set 10 | agogo, gh\n",
      "Processing Record 11 of Set 10 | pontes e lacerda, br\n",
      "Processing Record 12 of Set 10 | port huron, us\n",
      "Processing Record 13 of Set 10 | maloy, no\n",
      "Processing Record 14 of Set 10 | thohoyandou, za\n",
      "Processing Record 15 of Set 10 | nanortalik, gl\n",
      "Processing Record 16 of Set 10 | missoula, us\n",
      "Processing Record 17 of Set 10 | ruteng, id\n",
      "Processing Record 18 of Set 10 | eucaliptus, bo\n",
      "Processing Record 19 of Set 10 | ranong, th\n",
      "Processing Record 20 of Set 10 | arona, es\n",
      "Processing Record 21 of Set 10 | samfya, zm\n",
      "Processing Record 22 of Set 10 | nalut, ly\n",
      "Processing Record 23 of Set 10 | nacala, mz\n",
      "Processing Record 24 of Set 10 | taltal, cl\n",
      "Processing Record 25 of Set 10 | hofn, is\n",
      "Processing Record 26 of Set 10 | aklavik, ca\n",
      "Processing Record 27 of Set 10 | roald, no\n",
      "Processing Record 28 of Set 10 | zagar, ro\n",
      "Processing Record 29 of Set 10 | inongo, cd\n",
      "Processing Record 30 of Set 10 | rawson, ar\n",
      "Processing Record 31 of Set 10 | guarapari, br\n",
      "City not found. Skipping...\n",
      "Processing Record 33 of Set 10 | marsh harbour, bs\n",
      "Processing Record 34 of Set 10 | tsuyama, jp\n",
      "Processing Record 35 of Set 10 | biak, id\n",
      "City not found. Skipping...\n",
      "Processing Record 37 of Set 10 | dingle, ie\n",
      "Processing Record 38 of Set 10 | newport, us\n",
      "Processing Record 39 of Set 10 | helena, us\n",
      "Processing Record 40 of Set 10 | batesville, us\n",
      "Processing Record 41 of Set 10 | ust-maya, ru\n",
      "Processing Record 42 of Set 10 | opotiki, nz\n",
      "Processing Record 43 of Set 10 | pundaguitan, ph\n",
      "Processing Record 44 of Set 10 | khasan, ru\n",
      "Processing Record 45 of Set 10 | sol-iletsk, ru\n",
      "Processing Record 46 of Set 10 | palampur, in\n",
      "Processing Record 47 of Set 10 | mago, ru\n",
      "Processing Record 48 of Set 10 | luena, ao\n",
      "Processing Record 49 of Set 10 | zyryanka, ru\n",
      "City not found. Skipping...\n",
      "Processing Record 0 of Set 11 | kidal, ml\n",
      "Processing Record 1 of Set 11 | oranjemund, na\n",
      "Processing Record 2 of Set 11 | bardiyah, ly\n",
      "Processing Record 3 of Set 11 | loviisa, fi\n",
      "Processing Record 4 of Set 11 | sri aman, my\n",
      "Processing Record 5 of Set 11 | lahaina, us\n",
      "Processing Record 6 of Set 11 | cedar city, us\n",
      "Processing Record 7 of Set 11 | broome, au\n",
      "Processing Record 8 of Set 11 | irshava, ua\n",
      "Processing Record 9 of Set 11 | kolhapur, in\n",
      "Processing Record 10 of Set 11 | mundo nuevo, mx\n",
      "Processing Record 11 of Set 11 | rawlins, us\n",
      "Processing Record 12 of Set 11 | arman, ru\n",
      "Processing Record 13 of Set 11 | westport, ie\n"
     ]
    },
    {
     "name": "stdout",
     "output_type": "stream",
     "text": [
      "Processing Record 14 of Set 11 | mudanya, tr\n",
      "Processing Record 15 of Set 11 | muroto, jp\n",
      "Processing Record 16 of Set 11 | ondangwa, na\n",
      "City not found. Skipping...\n",
      "Processing Record 18 of Set 11 | havelock, us\n",
      "Processing Record 19 of Set 11 | taoudenni, ml\n",
      "Processing Record 20 of Set 11 | plastun, ru\n",
      "Processing Record 21 of Set 11 | constitucion, cl\n",
      "Processing Record 22 of Set 11 | lipin bor, ru\n",
      "Processing Record 23 of Set 11 | aguimes, es\n",
      "Processing Record 24 of Set 11 | pusad, in\n",
      "Processing Record 25 of Set 11 | mehamn, no\n",
      "Processing Record 26 of Set 11 | ystad, se\n",
      "Processing Record 27 of Set 11 | suntar, ru\n",
      "Processing Record 28 of Set 11 | auki, sb\n",
      "Processing Record 29 of Set 11 | nome, us\n",
      "Processing Record 30 of Set 11 | sokolo, ml\n",
      "Processing Record 31 of Set 11 | evensk, ru\n",
      "Processing Record 32 of Set 11 | kendari, id\n",
      "Processing Record 33 of Set 11 | chotebor, cz\n",
      "City not found. Skipping...\n",
      "Processing Record 35 of Set 11 | plouzane, fr\n",
      "Processing Record 36 of Set 11 | bananeiras, br\n",
      "Processing Record 37 of Set 11 | sibut, cf\n",
      "Processing Record 38 of Set 11 | virginia beach, us\n",
      "Processing Record 39 of Set 11 | sobolevo, ru\n",
      "Processing Record 40 of Set 11 | srednekolymsk, ru\n",
      "Processing Record 41 of Set 11 | camargo, bo\n",
      "Processing Record 42 of Set 11 | makakilo city, us\n",
      "City not found. Skipping...\n",
      "Processing Record 44 of Set 11 | diu, in\n",
      "City not found. Skipping...\n",
      "City not found. Skipping...\n",
      "Processing Record 47 of Set 11 | yinchuan, cn\n",
      "Processing Record 48 of Set 11 | vila do maio, cv\n"
     ]
    }
   ],
   "source": [
    "# Save config information.\n",
    "url = \"http://api.openweathermap.org/data/2.5/weather?\"\n",
    "# Temperatures in fahrenheit\n",
    "units = \"imperial\"\n",
    "\n",
    "# Create DataFrame\n",
    "# Citipy Cities\n",
    "cities_weather = pd.DataFrame({\n",
    "    'City': cities}, columns=['City', 'Lat', 'Lng', 'Max Temp', 'Humidity', 'Cloudiness', 'Wind Speed', 'Country', 'Date'])\n",
    "\n",
    "# Keep track of record and set counter information for query\n",
    "currentSet = 0\n",
    "currentRecord = 0\n",
    "currentCity = \"aCity\"\n",
    "\n",
    "# Loop through city list\n",
    "for index, row in cities_weather.iterrows():\n",
    "    try:\n",
    "        # Capture the city\n",
    "        currentCity = cities_weather.loc[index,\"City\"]\n",
    "        # Create query based on the city\n",
    "        query_url = f'{url}appid={weather_api_key}&q={currentCity}&units={units}'\n",
    "        # Do the get and make the response json\n",
    "        response = requests.get(query_url).json()\n",
    "\n",
    "        # Capture desired data from the json response and add it to the dataframe\n",
    "        cities_weather.loc[index, \"Lat\"] = response[\"coord\"][\"lat\"]\n",
    "        cities_weather.loc[index, \"Lng\"] = response[\"coord\"][\"lon\"]\n",
    "        cities_weather.loc[index, \"Max Temp\"] = response[\"main\"][\"temp_max\"]\n",
    "        cities_weather.loc[index, \"Humidity\"] = response[\"main\"][\"humidity\"]\n",
    "        cities_weather.loc[index, \"Cloudiness\"] = response[\"clouds\"][\"all\"]\n",
    "        cities_weather.loc[index, \"Wind Speed\"] = response[\"wind\"][\"speed\"]\n",
    "        cities_weather.loc[index, \"Country\"] = response[\"sys\"][\"country\"]\n",
    "        cities_weather.loc[index, \"Date\"] = response[\"dt\"]\n",
    "        \n",
    "        # Print status to screen\n",
    "        print(f\"Processing Record {currentRecord} of Set {currentSet} | {currentCity}\")\n",
    "               \n",
    "    except:\n",
    "        print(\"City not found. Skipping...\")\n",
    "            \n",
    "    # Counters for the printed status indicators\n",
    "    if currentRecord < 50:\n",
    "        currentRecord += 1\n",
    "    else:\n",
    "        currentSet += 1\n",
    "        currentRecord = 0\n"
   ]
  },
  {
   "cell_type": "markdown",
   "metadata": {},
   "source": [
    "### Convert Raw Data to DataFrame\n",
    "* Export the city data into a .csv.\n",
    "* Display the DataFrame"
   ]
  },
  {
   "cell_type": "code",
   "execution_count": 4,
   "metadata": {},
   "outputs": [
    {
     "data": {
      "text/html": [
       "<div>\n",
       "<style scoped>\n",
       "    .dataframe tbody tr th:only-of-type {\n",
       "        vertical-align: middle;\n",
       "    }\n",
       "\n",
       "    .dataframe tbody tr th {\n",
       "        vertical-align: top;\n",
       "    }\n",
       "\n",
       "    .dataframe thead th {\n",
       "        text-align: right;\n",
       "    }\n",
       "</style>\n",
       "<table border=\"1\" class=\"dataframe\">\n",
       "  <thead>\n",
       "    <tr style=\"text-align: right;\">\n",
       "      <th></th>\n",
       "      <th>City</th>\n",
       "      <th>Lat</th>\n",
       "      <th>Lng</th>\n",
       "      <th>Max Temp</th>\n",
       "      <th>Humidity</th>\n",
       "      <th>Cloudiness</th>\n",
       "      <th>Wind Speed</th>\n",
       "      <th>Country</th>\n",
       "      <th>Date</th>\n",
       "    </tr>\n",
       "  </thead>\n",
       "  <tbody>\n",
       "    <tr>\n",
       "      <th>0</th>\n",
       "      <td>grand river south east, mu</td>\n",
       "      <td>NaN</td>\n",
       "      <td>NaN</td>\n",
       "      <td>NaN</td>\n",
       "      <td>NaN</td>\n",
       "      <td>NaN</td>\n",
       "      <td>NaN</td>\n",
       "      <td>NaN</td>\n",
       "      <td>NaN</td>\n",
       "    </tr>\n",
       "    <tr>\n",
       "      <th>1</th>\n",
       "      <td>mahebourg, mu</td>\n",
       "      <td>-20.4081</td>\n",
       "      <td>57.7</td>\n",
       "      <td>80.6</td>\n",
       "      <td>83</td>\n",
       "      <td>40</td>\n",
       "      <td>3.44</td>\n",
       "      <td>MU</td>\n",
       "      <td>1612412584</td>\n",
       "    </tr>\n",
       "    <tr>\n",
       "      <th>2</th>\n",
       "      <td>hithadhoo, mv</td>\n",
       "      <td>-0.6</td>\n",
       "      <td>73.0833</td>\n",
       "      <td>82.98</td>\n",
       "      <td>72</td>\n",
       "      <td>59</td>\n",
       "      <td>7.05</td>\n",
       "      <td>MV</td>\n",
       "      <td>1612412584</td>\n",
       "    </tr>\n",
       "    <tr>\n",
       "      <th>3</th>\n",
       "      <td>vila franca do campo, pt</td>\n",
       "      <td>37.7167</td>\n",
       "      <td>-25.4333</td>\n",
       "      <td>51.8</td>\n",
       "      <td>71</td>\n",
       "      <td>40</td>\n",
       "      <td>12.66</td>\n",
       "      <td>PT</td>\n",
       "      <td>1612412585</td>\n",
       "    </tr>\n",
       "    <tr>\n",
       "      <th>4</th>\n",
       "      <td>busselton, au</td>\n",
       "      <td>-33.65</td>\n",
       "      <td>115.333</td>\n",
       "      <td>73</td>\n",
       "      <td>42</td>\n",
       "      <td>0</td>\n",
       "      <td>4</td>\n",
       "      <td>AU</td>\n",
       "      <td>1612412585</td>\n",
       "    </tr>\n",
       "    <tr>\n",
       "      <th>...</th>\n",
       "      <td>...</td>\n",
       "      <td>...</td>\n",
       "      <td>...</td>\n",
       "      <td>...</td>\n",
       "      <td>...</td>\n",
       "      <td>...</td>\n",
       "      <td>...</td>\n",
       "      <td>...</td>\n",
       "      <td>...</td>\n",
       "    </tr>\n",
       "    <tr>\n",
       "      <th>605</th>\n",
       "      <td>diu, in</td>\n",
       "      <td>20.7141</td>\n",
       "      <td>70.9822</td>\n",
       "      <td>75.31</td>\n",
       "      <td>30</td>\n",
       "      <td>0</td>\n",
       "      <td>1.45</td>\n",
       "      <td>IN</td>\n",
       "      <td>1612412704</td>\n",
       "    </tr>\n",
       "    <tr>\n",
       "      <th>606</th>\n",
       "      <td>shkotovo-26, ru</td>\n",
       "      <td>NaN</td>\n",
       "      <td>NaN</td>\n",
       "      <td>NaN</td>\n",
       "      <td>NaN</td>\n",
       "      <td>NaN</td>\n",
       "      <td>NaN</td>\n",
       "      <td>NaN</td>\n",
       "      <td>NaN</td>\n",
       "    </tr>\n",
       "    <tr>\n",
       "      <th>607</th>\n",
       "      <td>gat, ly</td>\n",
       "      <td>NaN</td>\n",
       "      <td>NaN</td>\n",
       "      <td>NaN</td>\n",
       "      <td>NaN</td>\n",
       "      <td>NaN</td>\n",
       "      <td>NaN</td>\n",
       "      <td>NaN</td>\n",
       "      <td>NaN</td>\n",
       "    </tr>\n",
       "    <tr>\n",
       "      <th>608</th>\n",
       "      <td>yinchuan, cn</td>\n",
       "      <td>38.4681</td>\n",
       "      <td>106.273</td>\n",
       "      <td>35.56</td>\n",
       "      <td>53</td>\n",
       "      <td>5</td>\n",
       "      <td>1.61</td>\n",
       "      <td>CN</td>\n",
       "      <td>1612412704</td>\n",
       "    </tr>\n",
       "    <tr>\n",
       "      <th>609</th>\n",
       "      <td>vila do maio, cv</td>\n",
       "      <td>15.1333</td>\n",
       "      <td>-23.2167</td>\n",
       "      <td>69.8</td>\n",
       "      <td>78</td>\n",
       "      <td>0</td>\n",
       "      <td>13.8</td>\n",
       "      <td>CV</td>\n",
       "      <td>1612412704</td>\n",
       "    </tr>\n",
       "  </tbody>\n",
       "</table>\n",
       "<p>610 rows × 9 columns</p>\n",
       "</div>"
      ],
      "text/plain": [
       "                           City      Lat      Lng Max Temp Humidity  \\\n",
       "0    grand river south east, mu      NaN      NaN      NaN      NaN   \n",
       "1                 mahebourg, mu -20.4081     57.7     80.6       83   \n",
       "2                 hithadhoo, mv     -0.6  73.0833    82.98       72   \n",
       "3      vila franca do campo, pt  37.7167 -25.4333     51.8       71   \n",
       "4                 busselton, au   -33.65  115.333       73       42   \n",
       "..                          ...      ...      ...      ...      ...   \n",
       "605                     diu, in  20.7141  70.9822    75.31       30   \n",
       "606             shkotovo-26, ru      NaN      NaN      NaN      NaN   \n",
       "607                     gat, ly      NaN      NaN      NaN      NaN   \n",
       "608                yinchuan, cn  38.4681  106.273    35.56       53   \n",
       "609            vila do maio, cv  15.1333 -23.2167     69.8       78   \n",
       "\n",
       "    Cloudiness Wind Speed Country        Date  \n",
       "0          NaN        NaN     NaN         NaN  \n",
       "1           40       3.44      MU  1612412584  \n",
       "2           59       7.05      MV  1612412584  \n",
       "3           40      12.66      PT  1612412585  \n",
       "4            0          4      AU  1612412585  \n",
       "..         ...        ...     ...         ...  \n",
       "605          0       1.45      IN  1612412704  \n",
       "606        NaN        NaN     NaN         NaN  \n",
       "607        NaN        NaN     NaN         NaN  \n",
       "608          5       1.61      CN  1612412704  \n",
       "609          0       13.8      CV  1612412704  \n",
       "\n",
       "[610 rows x 9 columns]"
      ]
     },
     "execution_count": 4,
     "metadata": {},
     "output_type": "execute_result"
    }
   ],
   "source": [
    "# Save Data to csv\n",
    "cities_weather.to_csv(\"Resources/Sample_Weather_Data.csv\", encoding=\"utf-8\", index=False)\n",
    "# Display DataFrame\n",
    "cities_weather"
   ]
  },
  {
   "cell_type": "code",
   "execution_count": 5,
   "metadata": {},
   "outputs": [
    {
     "data": {
      "text/html": [
       "<div>\n",
       "<style scoped>\n",
       "    .dataframe tbody tr th:only-of-type {\n",
       "        vertical-align: middle;\n",
       "    }\n",
       "\n",
       "    .dataframe tbody tr th {\n",
       "        vertical-align: top;\n",
       "    }\n",
       "\n",
       "    .dataframe thead th {\n",
       "        text-align: right;\n",
       "    }\n",
       "</style>\n",
       "<table border=\"1\" class=\"dataframe\">\n",
       "  <thead>\n",
       "    <tr style=\"text-align: right;\">\n",
       "      <th></th>\n",
       "      <th>Lat</th>\n",
       "      <th>Lng</th>\n",
       "      <th>Max Temp</th>\n",
       "      <th>Humidity</th>\n",
       "      <th>Cloudiness</th>\n",
       "      <th>Wind Speed</th>\n",
       "      <th>Date</th>\n",
       "    </tr>\n",
       "  </thead>\n",
       "  <tbody>\n",
       "    <tr>\n",
       "      <th>1</th>\n",
       "      <td>-20.4081</td>\n",
       "      <td>57.7</td>\n",
       "      <td>80.6</td>\n",
       "      <td>83</td>\n",
       "      <td>40</td>\n",
       "      <td>3.44</td>\n",
       "      <td>1612412584</td>\n",
       "    </tr>\n",
       "    <tr>\n",
       "      <th>2</th>\n",
       "      <td>-0.6</td>\n",
       "      <td>73.0833</td>\n",
       "      <td>82.98</td>\n",
       "      <td>72</td>\n",
       "      <td>59</td>\n",
       "      <td>7.05</td>\n",
       "      <td>1612412584</td>\n",
       "    </tr>\n",
       "    <tr>\n",
       "      <th>3</th>\n",
       "      <td>37.7167</td>\n",
       "      <td>-25.4333</td>\n",
       "      <td>51.8</td>\n",
       "      <td>71</td>\n",
       "      <td>40</td>\n",
       "      <td>12.66</td>\n",
       "      <td>1612412585</td>\n",
       "    </tr>\n",
       "    <tr>\n",
       "      <th>4</th>\n",
       "      <td>-33.65</td>\n",
       "      <td>115.333</td>\n",
       "      <td>73</td>\n",
       "      <td>42</td>\n",
       "      <td>0</td>\n",
       "      <td>4</td>\n",
       "      <td>1612412585</td>\n",
       "    </tr>\n",
       "    <tr>\n",
       "      <th>5</th>\n",
       "      <td>-0.95</td>\n",
       "      <td>-80.7333</td>\n",
       "      <td>76.96</td>\n",
       "      <td>87</td>\n",
       "      <td>66</td>\n",
       "      <td>8.19</td>\n",
       "      <td>1612412585</td>\n",
       "    </tr>\n",
       "    <tr>\n",
       "      <th>...</th>\n",
       "      <td>...</td>\n",
       "      <td>...</td>\n",
       "      <td>...</td>\n",
       "      <td>...</td>\n",
       "      <td>...</td>\n",
       "      <td>...</td>\n",
       "      <td>...</td>\n",
       "    </tr>\n",
       "    <tr>\n",
       "      <th>602</th>\n",
       "      <td>-20.65</td>\n",
       "      <td>-65.2167</td>\n",
       "      <td>63.39</td>\n",
       "      <td>66</td>\n",
       "      <td>100</td>\n",
       "      <td>4.7</td>\n",
       "      <td>1612412703</td>\n",
       "    </tr>\n",
       "    <tr>\n",
       "      <th>603</th>\n",
       "      <td>21.3469</td>\n",
       "      <td>-158.086</td>\n",
       "      <td>71.6</td>\n",
       "      <td>78</td>\n",
       "      <td>90</td>\n",
       "      <td>6.91</td>\n",
       "      <td>1612412567</td>\n",
       "    </tr>\n",
       "    <tr>\n",
       "      <th>605</th>\n",
       "      <td>20.7141</td>\n",
       "      <td>70.9822</td>\n",
       "      <td>75.31</td>\n",
       "      <td>30</td>\n",
       "      <td>0</td>\n",
       "      <td>1.45</td>\n",
       "      <td>1612412704</td>\n",
       "    </tr>\n",
       "    <tr>\n",
       "      <th>608</th>\n",
       "      <td>38.4681</td>\n",
       "      <td>106.273</td>\n",
       "      <td>35.56</td>\n",
       "      <td>53</td>\n",
       "      <td>5</td>\n",
       "      <td>1.61</td>\n",
       "      <td>1612412704</td>\n",
       "    </tr>\n",
       "    <tr>\n",
       "      <th>609</th>\n",
       "      <td>15.1333</td>\n",
       "      <td>-23.2167</td>\n",
       "      <td>69.8</td>\n",
       "      <td>78</td>\n",
       "      <td>0</td>\n",
       "      <td>13.8</td>\n",
       "      <td>1612412704</td>\n",
       "    </tr>\n",
       "  </tbody>\n",
       "</table>\n",
       "<p>539 rows × 7 columns</p>\n",
       "</div>"
      ],
      "text/plain": [
       "         Lat      Lng Max Temp Humidity Cloudiness Wind Speed        Date\n",
       "1   -20.4081     57.7     80.6       83         40       3.44  1612412584\n",
       "2       -0.6  73.0833    82.98       72         59       7.05  1612412584\n",
       "3    37.7167 -25.4333     51.8       71         40      12.66  1612412585\n",
       "4     -33.65  115.333       73       42          0          4  1612412585\n",
       "5      -0.95 -80.7333    76.96       87         66       8.19  1612412585\n",
       "..       ...      ...      ...      ...        ...        ...         ...\n",
       "602   -20.65 -65.2167    63.39       66        100        4.7  1612412703\n",
       "603  21.3469 -158.086     71.6       78         90       6.91  1612412567\n",
       "605  20.7141  70.9822    75.31       30          0       1.45  1612412704\n",
       "608  38.4681  106.273    35.56       53          5       1.61  1612412704\n",
       "609  15.1333 -23.2167     69.8       78          0       13.8  1612412704\n",
       "\n",
       "[539 rows x 7 columns]"
      ]
     },
     "execution_count": 5,
     "metadata": {},
     "output_type": "execute_result"
    }
   ],
   "source": [
    "# Create a dataframe to clean missing data and also check for summary information\n",
    "summary_df = cities_weather[['Lat','Lng','Max Temp', 'Humidity', 'Cloudiness', 'Wind Speed', 'Date']]\n",
    "summary_df2 = summary_df.dropna(how='all')\n",
    "summary_df2"
   ]
  },
  {
   "cell_type": "markdown",
   "metadata": {},
   "source": [
    "## Inspect the data and remove the cities where the humidity > 100%.\n",
    "----\n",
    "Skip this step if there are no cities that have humidity > 100%. "
   ]
  },
  {
   "cell_type": "code",
   "execution_count": 6,
   "metadata": {},
   "outputs": [
    {
     "data": {
      "text/html": [
       "<div>\n",
       "<style scoped>\n",
       "    .dataframe tbody tr th:only-of-type {\n",
       "        vertical-align: middle;\n",
       "    }\n",
       "\n",
       "    .dataframe tbody tr th {\n",
       "        vertical-align: top;\n",
       "    }\n",
       "\n",
       "    .dataframe thead th {\n",
       "        text-align: right;\n",
       "    }\n",
       "</style>\n",
       "<table border=\"1\" class=\"dataframe\">\n",
       "  <thead>\n",
       "    <tr style=\"text-align: right;\">\n",
       "      <th></th>\n",
       "      <th>City</th>\n",
       "      <th>Lat</th>\n",
       "      <th>Lng</th>\n",
       "      <th>Max Temp</th>\n",
       "      <th>Humidity</th>\n",
       "      <th>Cloudiness</th>\n",
       "      <th>Wind Speed</th>\n",
       "      <th>Country</th>\n",
       "      <th>Date</th>\n",
       "    </tr>\n",
       "  </thead>\n",
       "  <tbody>\n",
       "  </tbody>\n",
       "</table>\n",
       "</div>"
      ],
      "text/plain": [
       "Empty DataFrame\n",
       "Columns: [City, Lat, Lng, Max Temp, Humidity, Cloudiness, Wind Speed, Country, Date]\n",
       "Index: []"
      ]
     },
     "execution_count": 6,
     "metadata": {},
     "output_type": "execute_result"
    }
   ],
   "source": [
    "# Tested and skipped\n",
    "humidity_test = cities_weather.loc[cities_weather[\"Humidity\"] > 100]\n",
    "humidity_test\n",
    "# No results"
   ]
  },
  {
   "cell_type": "code",
   "execution_count": 17,
   "metadata": {},
   "outputs": [
    {
     "data": {
      "text/plain": [
       "Int64Index([], dtype='int64')"
      ]
     },
     "execution_count": 17,
     "metadata": {},
     "output_type": "execute_result"
    }
   ],
   "source": [
    "#  Get the indices of cities that have humidity over 100%.\n",
    "# Skipped"
   ]
  },
  {
   "cell_type": "code",
   "execution_count": 7,
   "metadata": {},
   "outputs": [],
   "source": [
    "# Make a new DataFrame equal to the city data to drop all humidity outliers by index.\n",
    "# Passing \"inplace=False\" will make a copy of the city_data DataFrame, which we call \"clean_city_data\".\n",
    "# Skipped"
   ]
  },
  {
   "cell_type": "markdown",
   "metadata": {},
   "source": [
    "## Plotting the Data\n",
    "* Use proper labeling of the plots using plot titles (including date of analysis) and axes labels.\n",
    "* Save the plotted figures as .pngs."
   ]
  },
  {
   "cell_type": "markdown",
   "metadata": {},
   "source": [
    "## Latitude vs. Temperature Plot"
   ]
  },
  {
   "cell_type": "code",
   "execution_count": 8,
   "metadata": {},
   "outputs": [
    {
     "data": {
      "image/png": "[encoded data removed]",
      "text/plain": [
       "<Figure size 432x288 with 1 Axes>"
      ]
     },
     "metadata": {
      "needs_background": "light"
     },
     "output_type": "display_data"
    }
   ],
   "source": [
    "# Name clean data frame for following cells\n",
    "clean_city_data = summary_df2\n",
    "\n",
    "# Set plotted values\n",
    "x_values = clean_city_data[\"Lat\"]\n",
    "y_values = clean_city_data[\"Max Temp\"]\n",
    "\n",
    "# Capture date for title banner\n",
    "currentDate = pd.Timestamp.today()\n",
    "currentDate = currentDate.date()\n",
    "\n",
    "# Plot\n",
    "plt.scatter(x_values,y_values, color='green')\n",
    "plt.title(f'City Latitude vs. Max Temperature ({currentDate})')\n",
    "plt.ylabel('Max Temperature(F)')\n",
    "plt.xlabel('Latitude')\n",
    "\n",
    "# Save image to file\n",
    "plt.savefig(\"../Images/Latitude and Max Temperature Scatter.png\")"
   ]
  },
  {
   "cell_type": "markdown",
   "metadata": {},
   "source": [
    "* It is winter in the northern hemisphere and summer in the southern hemisphere currently.  The tempartures around the equator would stay more constistant if these plots were created over time.  But that is way there are relatively few colder temparature below the equator (0 degrees latitude)."
   ]
  },
  {
   "cell_type": "markdown",
   "metadata": {},
   "source": [
    "## Latitude vs. Humidity Plot"
   ]
  },
  {
   "cell_type": "code",
   "execution_count": 9,
   "metadata": {},
   "outputs": [
    {
     "data": {
      "image/png": "[encoded data removed]",
      "text/plain": [
       "<Figure size 432x288 with 1 Axes>"
      ]
     },
     "metadata": {
      "needs_background": "light"
     },
     "output_type": "display_data"
    }
   ],
   "source": [
    "# Set plotted values\n",
    "x_values = clean_city_data[\"Lat\"]\n",
    "y_values = clean_city_data[\"Humidity\"]\n",
    "\n",
    "# Capture date for title banner\n",
    "currentDate = pd.Timestamp.today()\n",
    "currentDate = currentDate.date()\n",
    "\n",
    "# Plot\n",
    "plt.scatter(x_values,y_values,color='green')\n",
    "plt.title(f'City Latitude vs. Humidity ({currentDate})')\n",
    "plt.ylabel('Humidity(%)')\n",
    "plt.xlabel('Latitude')\n",
    "\n",
    "# Save image to file\n",
    "plt.savefig(\"../Images/Latitude and Humidity Scatter.png\")"
   ]
  },
  {
   "cell_type": "markdown",
   "metadata": {},
   "source": [
    "* Humidity involves a number of factors and can be seen both above and below the equator at this time of year."
   ]
  },
  {
   "cell_type": "markdown",
   "metadata": {},
   "source": [
    "## Latitude vs. Cloudiness Plot"
   ]
  },
  {
   "cell_type": "code",
   "execution_count": 11,
   "metadata": {},
   "outputs": [
    {
     "data": {
      "image/png": "[encoded data removed]",
      "text/plain": [
       "<Figure size 432x288 with 1 Axes>"
      ]
     },
     "metadata": {
      "needs_background": "light"
     },
     "output_type": "display_data"
    }
   ],
   "source": [
    "# Set values to plot\n",
    "x_values = clean_city_data[\"Lat\"]\n",
    "y_values = clean_city_data[\"Cloudiness\"]\n",
    "\n",
    "# Capture current date for title banner\n",
    "currentDate = pd.Timestamp.today()\n",
    "currentDate = currentDate.date()\n",
    "\n",
    "# Plot\n",
    "plt.scatter(x_values,y_values, color='green')\n",
    "plt.title(f'City Latitude vs. Cloudiness ({currentDate})')\n",
    "plt.ylabel('Cloudiness(%)')\n",
    "plt.xlabel('Latitude')\n",
    "\n",
    "# Save image to file\n",
    "plt.savefig(\"../Images/Latitude and Cloudiness Scatter.png\")"
   ]
  },
  {
   "cell_type": "markdown",
   "metadata": {},
   "source": [
    "* Like humidity cloudiness has a variety of factors and weather patterns but there are a number of cities that collect at either 'no clouds' or 'full clouds' readings across the range of latitudes."
   ]
  },
  {
   "cell_type": "markdown",
   "metadata": {},
   "source": [
    "## Latitude vs. Wind Speed Plot"
   ]
  },
  {
   "cell_type": "code",
   "execution_count": 12,
   "metadata": {},
   "outputs": [
    {
     "data": {
      "image/png": "[encoded data removed]",
      "text/plain": [
       "<Figure size 432x288 with 1 Axes>"
      ]
     },
     "metadata": {
      "needs_background": "light"
     },
     "output_type": "display_data"
    }
   ],
   "source": [
    "# Set values to plot\n",
    "x_values = clean_city_data[\"Lat\"]\n",
    "y_values = clean_city_data[\"Wind Speed\"]\n",
    "\n",
    "# Capture current date for title banner\n",
    "currentDate = pd.Timestamp.today()\n",
    "currentDate = currentDate.date()\n",
    "\n",
    "# Plot\n",
    "plt.scatter(x_values,y_values, color='green')\n",
    "plt.title(f'City Latitude vs. Wind Speed ({currentDate})')\n",
    "plt.ylabel('Wind Speed(mph))')\n",
    "plt.xlabel('Latitude')\n",
    "\n",
    "# Save image to file\n",
    "plt.savefig(\"../Images/Latitude and Wind Speed Scatter.png\")"
   ]
  },
  {
   "cell_type": "markdown",
   "metadata": {},
   "source": [
    "* Wind speed variation seems to be fairly consistent across the range of latitude with more significant readings toward the poles."
   ]
  },
  {
   "cell_type": "markdown",
   "metadata": {},
   "source": [
    "## Linear Regression"
   ]
  },
  {
   "cell_type": "code",
   "execution_count": 13,
   "metadata": {},
   "outputs": [],
   "source": [
    "# Divide current data set into norther and southern hemisphere based on latitude\n",
    "northern_hemi_df = clean_city_data.loc[clean_city_data[\"Lat\"] > 0]\n",
    "\n",
    "southern_hemi_df = clean_city_data.loc[clean_city_data[\"Lat\"] < 0]"
   ]
  },
  {
   "cell_type": "markdown",
   "metadata": {},
   "source": [
    "####  Northern Hemisphere - Max Temp vs. Latitude Linear Regression"
   ]
  },
  {
   "cell_type": "code",
   "execution_count": 14,
   "metadata": {},
   "outputs": [
    {
     "name": "stdout",
     "output_type": "stream",
     "text": [
      "The r-value is: -0.9005123595012625\n"
     ]
    },
    {
     "data": {
      "image/png": "[encoded data removed]",
      "text/plain": [
       "<Figure size 432x288 with 1 Axes>"
      ]
     },
     "metadata": {
      "needs_background": "light"
     },
     "output_type": "display_data"
    }
   ],
   "source": [
    "# Set values to plot and type for linear regression\n",
    "x_values = northern_hemi_df[\"Lat\"]\n",
    "x_values = x_values.astype('float32')\n",
    "y_values = northern_hemi_df[\"Max Temp\"]\n",
    "y_values = y_values.astype('float32')\n",
    "\n",
    "# Standard regression programming. X and Y \n",
    "(slope, intercept, rvalue, pvalue, stderr) = linregress(x_values, y_values)\n",
    "regress_values = x_values * slope + intercept\n",
    "line_eq = \"y = \" + str(round(slope,2)) + \"x + \" + str(round(intercept,2))\n",
    "\n",
    "# Plot\n",
    "plt.scatter(x_values,y_values, color = 'green')\n",
    "plt.plot(x_values,regress_values,\"r-\")\n",
    "# Format\n",
    "plt.annotate(line_eq,(10,-20),fontsize=15,color=\"red\")\n",
    "plt.ylabel('Max Temp')\n",
    "plt.xlabel('Latitude')\n",
    "\n",
    "# Save image to file\n",
    "plt.savefig(\"../Images/NH Temp and Latitude Regression.png\")\n",
    "\n",
    "print(f\"The r-value is: {rvalue}\")"
   ]
  },
  {
   "cell_type": "markdown",
   "metadata": {},
   "source": [
    "* In the northern hemisphere because it's currently winter there's and inverse relationship of temperature declining as  the readings move further away from the equator.  The r value indicates this is a fairly strong trend."
   ]
  },
  {
   "cell_type": "markdown",
   "metadata": {},
   "source": [
    "####  Southern Hemisphere - Max Temp vs. Latitude Linear Regression"
   ]
  },
  {
   "cell_type": "code",
   "execution_count": 15,
   "metadata": {},
   "outputs": [
    {
     "name": "stdout",
     "output_type": "stream",
     "text": [
      "The r-value is: 0.393096041265051\n"
     ]
    },
    {
     "data": {
      "image/png": "[encoded data removed]",
      "text/plain": [
       "<Figure size 432x288 with 1 Axes>"
      ]
     },
     "metadata": {
      "needs_background": "light"
     },
     "output_type": "display_data"
    }
   ],
   "source": [
    "# Set values to plot and type for linear regression\n",
    "x_values = southern_hemi_df[\"Lat\"]\n",
    "x_values = x_values.astype('float32')\n",
    "y_values = southern_hemi_df[\"Max Temp\"]\n",
    "y_values = y_values.astype('float32')\n",
    "\n",
    "# Standard regression programming. X and Y \n",
    "(slope, intercept, rvalue, pvalue, stderr) = linregress(x_values, y_values)\n",
    "regress_values = x_values * slope + intercept\n",
    "line_eq = \"y = \" + str(round(slope,2)) + \"x + \" + str(round(intercept,2))\n",
    "\n",
    "# Plot\n",
    "plt.scatter(x_values,y_values, color='green')\n",
    "plt.plot(x_values,regress_values,\"r-\")\n",
    "# Format\n",
    "plt.annotate(line_eq,(-55,88),fontsize=15,color=\"red\")\n",
    "plt.ylabel('Max Temp')\n",
    "plt.xlabel('Latitude')\n",
    "\n",
    "# Save image to file\n",
    "plt.savefig(\"../Images/SH Temp and Latitude Regression.png\")\n",
    "\n",
    "print(f\"The r-value is: {rvalue}\")"
   ]
  },
  {
   "cell_type": "markdown",
   "metadata": {},
   "source": [
    "* In the southern hemisphere it's currently summer so the slope of the regression line is not as steep."
   ]
  },
  {
   "cell_type": "markdown",
   "metadata": {},
   "source": [
    "####  Northern Hemisphere - Humidity (%) vs. Latitude Linear Regression"
   ]
  },
  {
   "cell_type": "code",
   "execution_count": 16,
   "metadata": {},
   "outputs": [
    {
     "name": "stdout",
     "output_type": "stream",
     "text": [
      "The r-value is: 0.42735803456937277\n"
     ]
    },
    {
     "data": {
      "image/png": "[encoded data removed]",
      "text/plain": [
       "<Figure size 432x288 with 1 Axes>"
      ]
     },
     "metadata": {
      "needs_background": "light"
     },
     "output_type": "display_data"
    }
   ],
   "source": [
    "# Set values to plot and type for linear regression\n",
    "x_values = northern_hemi_df[\"Lat\"]\n",
    "x_values = x_values.astype('float32')\n",
    "y_values = northern_hemi_df[\"Humidity\"]\n",
    "y_values = y_values.astype('float32')\n",
    "\n",
    "# Standard regression programming. X and Y \n",
    "(slope, intercept, rvalue, pvalue, stderr) = linregress(x_values, y_values)\n",
    "regress_values = x_values * slope + intercept\n",
    "line_eq = \"y = \" + str(round(slope,2)) + \"x + \" + str(round(intercept,2))\n",
    "\n",
    "# Plot\n",
    "plt.scatter(x_values,y_values, color='green')\n",
    "plt.plot(x_values,regress_values,\"r-\")\n",
    "# Format\n",
    "plt.annotate(line_eq,(40,20),fontsize=15,color=\"red\")\n",
    "plt.ylabel('Humidity')\n",
    "plt.xlabel('Latitude')\n",
    "\n",
    "# Save image to file\n",
    "plt.savefig(\"../Images/NH Humidity and Latitude Regression.png\")\n",
    "\n",
    "print(f\"The r-value is: {rvalue}\")"
   ]
  },
  {
   "cell_type": "markdown",
   "metadata": {},
   "source": [
    "* The regression indicates a weak but positive correlation of increasing humidity when moving away from the equator."
   ]
  },
  {
   "cell_type": "markdown",
   "metadata": {},
   "source": [
    "####  Southern Hemisphere - Humidity (%) vs. Latitude Linear Regression"
   ]
  },
  {
   "cell_type": "code",
   "execution_count": 17,
   "metadata": {},
   "outputs": [
    {
     "name": "stdout",
     "output_type": "stream",
     "text": [
      "The r-value is: 0.3114034006620674\n"
     ]
    },
    {
     "data": {
      "image/png": "[encoded data removed]",
      "text/plain": [
       "<Figure size 432x288 with 1 Axes>"
      ]
     },
     "metadata": {
      "needs_background": "light"
     },
     "output_type": "display_data"
    }
   ],
   "source": [
    "# Set values to plot and type for linear regression\n",
    "x_values = southern_hemi_df[\"Lat\"]\n",
    "x_values = x_values.astype('float32')\n",
    "y_values = southern_hemi_df[\"Humidity\"]\n",
    "y_values = y_values.astype('float32')\n",
    "\n",
    "# Standard regression programming. X and Y \n",
    "(slope, intercept, rvalue, pvalue, stderr) = linregress(x_values, y_values)\n",
    "regress_values = x_values * slope + intercept\n",
    "line_eq = \"y = \" + str(round(slope,2)) + \"x + \" + str(round(intercept,2))\n",
    "\n",
    "# Plot\n",
    "plt.scatter(x_values,y_values, color='green')\n",
    "plt.plot(x_values,regress_values,\"r-\")\n",
    "# Format\n",
    "plt.annotate(line_eq,(-55,20),fontsize=15,color=\"red\")\n",
    "plt.ylabel('Humidity')\n",
    "plt.xlabel('Latitude')\n",
    "\n",
    "# Save image to file\n",
    "plt.savefig(\"../Images/SH Temp and Latitude Regression.png\")\n",
    "\n",
    "print(f\"The r-value is: {rvalue}\")"
   ]
  },
  {
   "cell_type": "markdown",
   "metadata": {},
   "source": [
    "* Similar to the northern hemisphere there's a weak but positive correlation between increasing humidity and moving south away from the equator."
   ]
  },
  {
   "cell_type": "markdown",
   "metadata": {},
   "source": [
    "####  Northern Hemisphere - Cloudiness (%) vs. Latitude Linear Regression"
   ]
  },
  {
   "cell_type": "code",
   "execution_count": 18,
   "metadata": {},
   "outputs": [
    {
     "name": "stdout",
     "output_type": "stream",
     "text": [
      "The r-value is: 0.2838582333561511\n"
     ]
    },
    {
     "data": {
      "image/png": "[encoded data removed]",
      "text/plain": [
       "<Figure size 432x288 with 1 Axes>"
      ]
     },
     "metadata": {
      "needs_background": "light"
     },
     "output_type": "display_data"
    }
   ],
   "source": [
    "# Set values to plot and type for linear regression\n",
    "x_values = northern_hemi_df[\"Lat\"]\n",
    "x_values = x_values.astype('float32')\n",
    "y_values = northern_hemi_df[\"Cloudiness\"]\n",
    "y_values = y_values.astype('float32')\n",
    "\n",
    "# Standard regression programming. X and Y \n",
    "(slope, intercept, rvalue, pvalue, stderr) = linregress(x_values, y_values)\n",
    "regress_values = x_values * slope + intercept\n",
    "line_eq = \"y = \" + str(round(slope,2)) + \"x + \" + str(round(intercept,2))\n",
    "\n",
    "# Plot\n",
    "plt.scatter(x_values,y_values, color='green')\n",
    "plt.plot(x_values,regress_values,\"r-\")\n",
    "# Format\n",
    "plt.annotate(line_eq,(40,10),fontsize=15,color=\"red\")\n",
    "plt.ylabel('Cloudiness')\n",
    "plt.xlabel('Latitude')\n",
    "\n",
    "# Save image to file\n",
    "plt.savefig(\"../Images/NH Cloudiness and Latitude Regression.png\")\n",
    "\n",
    "print(f\"The r-value is: {rvalue}\")"
   ]
  },
  {
   "cell_type": "markdown",
   "metadata": {},
   "source": [
    "* Cloudiness has very little predictable correlation above the equator."
   ]
  },
  {
   "cell_type": "markdown",
   "metadata": {},
   "source": [
    "####  Southern Hemisphere - Cloudiness (%) vs. Latitude Linear Regression"
   ]
  },
  {
   "cell_type": "code",
   "execution_count": 19,
   "metadata": {},
   "outputs": [
    {
     "name": "stdout",
     "output_type": "stream",
     "text": [
      "The r-value is: 0.32969821524360843\n"
     ]
    },
    {
     "data": {
      "image/png": "[encoded data removed]",
      "text/plain": [
       "<Figure size 432x288 with 1 Axes>"
      ]
     },
     "metadata": {
      "needs_background": "light"
     },
     "output_type": "display_data"
    }
   ],
   "source": [
    "# Set values to plot and type for linear regression\n",
    "x_values = southern_hemi_df[\"Lat\"]\n",
    "x_values = x_values.astype('float32')\n",
    "y_values = southern_hemi_df[\"Cloudiness\"]\n",
    "y_values = y_values.astype('float32')\n",
    "\n",
    "# Standard regression programming. X and Y \n",
    "(slope, intercept, rvalue, pvalue, stderr) = linregress(x_values, y_values)\n",
    "regress_values = x_values * slope + intercept\n",
    "line_eq = \"y = \" + str(round(slope,2)) + \"x + \" + str(round(intercept,2))\n",
    "\n",
    "# Plot\n",
    "plt.scatter(x_values,y_values, color='green')\n",
    "plt.plot(x_values,regress_values,\"r-\")\n",
    "# Format\n",
    "plt.annotate(line_eq,(-50,60),fontsize=15,color=\"red\")\n",
    "plt.ylabel('Cloudiness')\n",
    "plt.xlabel('Latitude')\n",
    "\n",
    "# Save image to file\n",
    "plt.savefig(\"../Images/SH Cloudiness and Latitude Regression.png\")\n",
    "\n",
    "print(f\"The r-value is: {rvalue}\")"
   ]
  },
  {
   "cell_type": "markdown",
   "metadata": {},
   "source": [
    "* Cloudiness has very little predictable correlation below the equator."
   ]
  },
  {
   "cell_type": "markdown",
   "metadata": {},
   "source": [
    "####  Northern Hemisphere - Wind Speed (mph) vs. Latitude Linear Regression"
   ]
  },
  {
   "cell_type": "code",
   "execution_count": 23,
   "metadata": {},
   "outputs": [
    {
     "name": "stdout",
     "output_type": "stream",
     "text": [
      "The r-value is: 0.08066811902617334\n"
     ]
    },
    {
     "data": {
      "image/png": "[encoded data removed]",
      "text/plain": [
       "<Figure size 432x288 with 1 Axes>"
      ]
     },
     "metadata": {
      "needs_background": "light"
     },
     "output_type": "display_data"
    }
   ],
   "source": [
    "# Set values to plot and type for linear regression\n",
    "x_values = northern_hemi_df[\"Lat\"]\n",
    "x_values = x_values.astype('float32')\n",
    "y_values = northern_hemi_df[\"Wind Speed\"]\n",
    "y_values = y_values.astype('float32')\n",
    "\n",
    "# Standard regression programming. X and Y \n",
    "(slope, intercept, rvalue, pvalue, stderr) = linregress(x_values, y_values)\n",
    "regress_values = x_values * slope + intercept\n",
    "line_eq = \"y = \" + str(round(slope,2)) + \"x + \" + str(round(intercept,2))\n",
    "\n",
    "# Plot\n",
    "plt.scatter(x_values,y_values, color='green')\n",
    "plt.plot(x_values,regress_values,\"r-\")\n",
    "# Format\n",
    "plt.annotate(line_eq,(5,30),fontsize=15,color=\"red\")\n",
    "plt.ylabel('Wind Speed')\n",
    "plt.xlabel('Latitude')\n",
    "\n",
    "# Save image to file\n",
    "plt.savefig(\"../Images/NH Wind Speed and Latitude Regression.png\")\n",
    "\n",
    "print(f\"The r-value is: {rvalue}\")"
   ]
  },
  {
   "cell_type": "markdown",
   "metadata": {},
   "source": [
    "* Wind speed has very little meaningful correlation above the equator."
   ]
  },
  {
   "cell_type": "markdown",
   "metadata": {},
   "source": [
    "####  Southern Hemisphere - Wind Speed (mph) vs. Latitude Linear Regression"
   ]
  },
  {
   "cell_type": "code",
   "execution_count": 25,
   "metadata": {},
   "outputs": [
    {
     "name": "stdout",
     "output_type": "stream",
     "text": [
      "The r-value is: -0.2435980959128633\n"
     ]
    },
    {
     "data": {
      "image/png": "[encoded data removed]",
      "text/plain": [
       "<Figure size 432x288 with 1 Axes>"
      ]
     },
     "metadata": {
      "needs_background": "light"
     },
     "output_type": "display_data"
    }
   ],
   "source": [
    "# Set values to plot and type for linear regression\n",
    "x_values = southern_hemi_df[\"Lat\"]\n",
    "x_values = x_values.astype('float32')\n",
    "y_values = southern_hemi_df[\"Wind Speed\"]\n",
    "y_values = y_values.astype('float32')\n",
    "\n",
    "# Standard regression programming. X and Y \n",
    "(slope, intercept, rvalue, pvalue, stderr) = linregress(x_values, y_values)\n",
    "regress_values = x_values * slope + intercept\n",
    "line_eq = \"y = \" + str(round(slope,2)) + \"x + \" + str(round(intercept,2))\n",
    "\n",
    "# Plot\n",
    "plt.scatter(x_values,y_values, color='green')\n",
    "plt.plot(x_values,regress_values,\"r-\")\n",
    "# Format\n",
    "plt.annotate(line_eq,(-55,27),fontsize=15,color=\"red\")\n",
    "plt.ylabel('Wind Speed')\n",
    "plt.xlabel('Latitude')\n",
    "\n",
    "# Save image to file\n",
    "plt.savefig(\"../Images/SH Wind Speed and Latitude Regression.png\")\n",
    "\n",
    "print(f\"The r-value is: {rvalue}\")"
   ]
  },
  {
   "cell_type": "markdown",
   "metadata": {},
   "source": [
    "* In the summer time in the southern hemisphere there is a weak indicator that wind speed reduces in places closer to the equator."
   ]
  }
 ],
 "metadata": {
  "anaconda-cloud": {},
  "kernel_info": {
   "name": "python3"
  },
  "kernelspec": {
   "display_name": "Python 3",
   "language": "python",
   "name": "python3"
  },
  "language_info": {
   "codemirror_mode": {
    "name": "ipython",
    "version": 3
   },
   "file_extension": ".py",
   "mimetype": "text/x-python",
   "name": "python",
   "nbconvert_exporter": "python",
   "pygments_lexer": "ipython3",
   "version": "3.6.10"
  },
  "latex_envs": {
   "LaTeX_envs_menu_present": true,
   "autoclose": false,
   "autocomplete": true,
   "bibliofile": "biblio.bib",
   "cite_by": "apalike",
   "current_citInitial": 1,
   "eqLabelWithNumbers": true,
   "eqNumInitial": 1,
   "hotkeys": {
    "equation": "Ctrl-E",
    "itemize": "Ctrl-I"
   },
   "labels_anchors": false,
   "latex_user_defs": false,
   "report_style_numbering": false,
   "user_envs_cfg": false
  },
  "nteract": {
   "version": "0.12.3"
  }
 },
 "nbformat": 4,
 "nbformat_minor": 2
}
